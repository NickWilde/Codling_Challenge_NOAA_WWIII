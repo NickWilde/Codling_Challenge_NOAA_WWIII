{
 "cells": [
  {
   "cell_type": "code",
   "execution_count": 355,
   "metadata": {},
   "outputs": [],
   "source": [
    "import numpy as np\n",
    "import math"
   ]
  },
  {
   "cell_type": "markdown",
   "metadata": {},
   "source": [
    "## Question 1 and 2"
   ]
  },
  {
   "cell_type": "code",
   "execution_count": 356,
   "metadata": {},
   "outputs": [],
   "source": [
    "dis1=np.array([1])\n",
    "dis2=np.array([2,1])\n",
    "dis3=np.array([3,2,1])\n",
    "dis4=np.array([4,3,2,1])"
   ]
  },
  {
   "cell_type": "code",
   "execution_count": 367,
   "metadata": {},
   "outputs": [],
   "source": [
    "V=[]\n",
    "for i in dis1:\n",
    "    for j in dis2:\n",
    "        for k in dis3:\n",
    "            for l in dis4:\n",
    "                V.append(i+j+k+l)"
   ]
  },
  {
   "cell_type": "code",
   "execution_count": 358,
   "metadata": {},
   "outputs": [],
   "source": [
    "V=np.array(V)"
   ]
  },
  {
   "cell_type": "code",
   "execution_count": 359,
   "metadata": {},
   "outputs": [
    {
     "name": "stdout",
     "output_type": "stream",
     "text": [
      "Mean of sum of distance V: 7.0000000000\n",
      "Standard deviation of sum of distance V: 1.4719601444\n"
     ]
    }
   ],
   "source": [
    "print(\"Mean of sum of distance V: {values:.10f}\".format(values=V.mean()))\n",
    "print(\"Standard deviation of sum of distance V: {values:.10f}\".format(values=V.std()))"
   ]
  },
  {
   "cell_type": "markdown",
   "metadata": {},
   "source": [
    "## Question 3 and 4"
   ]
  },
  {
   "cell_type": "code",
   "execution_count": 360,
   "metadata": {},
   "outputs": [],
   "source": [
    "dis1=np.array([1])\n",
    "dis2=np.flip(np.array(range(1,3)))\n",
    "dis3=np.flip(np.array(range(1,4)))\n",
    "dis4=np.flip(np.array(range(1,5)))\n",
    "dis5=np.flip(np.array(range(1,6)))\n",
    "dis6=np.flip(np.array(range(1,7)))\n",
    "dis7=np.flip(np.array(range(1,8)))\n",
    "dis8=np.flip(np.array(range(1,9)))\n",
    "dis9=np.flip(np.array(range(1,10)))\n",
    "dis10=np.flip(np.array(range(1,11)))"
   ]
  },
  {
   "cell_type": "code",
   "execution_count": 368,
   "metadata": {},
   "outputs": [],
   "source": [
    "V=[]\n",
    "for a in dis1:\n",
    "    for b in dis2:\n",
    "        for c in dis3:\n",
    "            for d in dis4:\n",
    "                for e in dis5:\n",
    "                    for f in dis6:\n",
    "                        for g in dis7:\n",
    "                            for h in dis8:\n",
    "                                for i in dis9:\n",
    "                                    for j in dis10:\n",
    "                                        V.append(a+b+c+d+e+f+g+h+i+j)"
   ]
  },
  {
   "cell_type": "code",
   "execution_count": 362,
   "metadata": {},
   "outputs": [],
   "source": [
    "V=np.array(V)"
   ]
  },
  {
   "cell_type": "code",
   "execution_count": 363,
   "metadata": {},
   "outputs": [
    {
     "data": {
      "text/plain": [
       "array([55, 54, 53, 52, 51, 50, 49, 48, 47, 46, 54, 53, 52, 51, 50, 49, 48,\n",
       "       47, 46, 45, 53, 52, 51, 50, 49, 48, 47, 46, 45, 44, 52, 51, 50, 49,\n",
       "       48, 47, 46, 45, 44, 43, 51, 50, 49, 48, 47, 46, 45, 44, 43, 42, 50,\n",
       "       49, 48, 47, 46, 45, 44, 43, 42, 41, 49, 48, 47, 46, 45, 44, 43, 42,\n",
       "       41, 40, 48, 47, 46, 45, 44, 43, 42, 41, 40, 39, 47, 46, 45, 44, 43,\n",
       "       42, 41, 40, 39, 38, 54, 53, 52, 51, 50, 49, 48, 47, 46, 45, 53, 52,\n",
       "       51, 50, 49, 48, 47, 46, 45, 44, 52, 51, 50, 49, 48, 47, 46, 45, 44,\n",
       "       43, 51, 50, 49, 48, 47, 46, 45, 44, 43, 42, 50, 49, 48, 47, 46, 45,\n",
       "       44, 43, 42, 41, 49, 48, 47, 46, 45, 44, 43, 42, 41, 40, 48, 47, 46,\n",
       "       45, 44, 43, 42, 41, 40, 39, 47, 46, 45, 44, 43, 42, 41, 40, 39, 38,\n",
       "       46, 45, 44, 43, 42, 41, 40, 39, 38, 37, 53, 52, 51, 50, 49, 48, 47,\n",
       "       46, 45, 44, 52, 51, 50, 49, 48, 47, 46, 45, 44, 43, 51, 50, 49, 48,\n",
       "       47, 46, 45, 44, 43, 42, 50, 49, 48, 47, 46, 45, 44, 43, 42, 41, 49,\n",
       "       48, 47, 46, 45, 44, 43, 42, 41, 40, 48, 47, 46, 45, 44, 43, 42, 41,\n",
       "       40, 39, 47, 46, 45, 44, 43, 42, 41, 40, 39, 38, 46, 45, 44, 43, 42,\n",
       "       41, 40, 39, 38, 37, 45, 44, 43, 42, 41, 40, 39, 38, 37, 36, 52, 51,\n",
       "       50, 49, 48, 47, 46, 45, 44, 43, 51, 50, 49, 48, 47, 46, 45, 44, 43,\n",
       "       42, 50, 49, 48, 47, 46, 45, 44, 43, 42, 41, 49, 48, 47, 46, 45, 44,\n",
       "       43, 42, 41, 40, 48, 47, 46, 45, 44, 43, 42, 41, 40, 39, 47, 46, 45,\n",
       "       44, 43, 42, 41, 40, 39, 38, 46, 45, 44, 43, 42, 41, 40, 39, 38, 37,\n",
       "       45, 44, 43, 42, 41, 40, 39, 38, 37, 36, 44, 43, 42, 41, 40, 39, 38,\n",
       "       37, 36, 35, 51, 50, 49, 48, 47, 46, 45, 44, 43, 42, 50, 49, 48, 47,\n",
       "       46, 45, 44, 43, 42, 41, 49, 48, 47, 46, 45, 44, 43, 42, 41, 40, 48,\n",
       "       47, 46, 45, 44, 43, 42, 41, 40, 39, 47, 46, 45, 44, 43, 42, 41, 40,\n",
       "       39, 38, 46, 45, 44, 43, 42, 41, 40, 39, 38, 37, 45, 44, 43, 42, 41,\n",
       "       40, 39, 38, 37, 36, 44, 43, 42, 41, 40, 39, 38, 37, 36, 35, 43, 42,\n",
       "       41, 40, 39, 38, 37, 36, 35, 34, 50, 49, 48, 47, 46, 45, 44, 43, 42,\n",
       "       41, 49, 48, 47, 46, 45, 44, 43, 42, 41, 40, 48, 47, 46, 45, 44, 43,\n",
       "       42, 41, 40, 39, 47, 46, 45, 44, 43, 42, 41, 40, 39, 38, 46, 45, 44,\n",
       "       43, 42, 41, 40, 39, 38, 37])"
      ]
     },
     "execution_count": 363,
     "metadata": {},
     "output_type": "execute_result"
    }
   ],
   "source": [
    "V[:500]"
   ]
  },
  {
   "cell_type": "code",
   "execution_count": 364,
   "metadata": {},
   "outputs": [
    {
     "name": "stdout",
     "output_type": "stream",
     "text": [
      "Mean of sum of distance V: 32.5000000000\n",
      "Standard deviation of sum of distance V: 5.5901699437\n"
     ]
    }
   ],
   "source": [
    "print(\"Mean of sum of distance V: {values:.10f}\".format(values=V.mean()))\n",
    "print(\"Standard deviation of sum of distance V: {values:.10f}\".format(values=V.std()))"
   ]
  },
  {
   "cell_type": "markdown",
   "metadata": {},
   "source": [
    "## Question 5"
   ]
  },
  {
   "cell_type": "code",
   "execution_count": 365,
   "metadata": {},
   "outputs": [],
   "source": [
    "size=4\n",
    "up_lim=sum(range(size,0,-1))\n",
    "\n",
    "\n",
    "# initialize\n",
    "V_one=np.array(range(up_lim,up_lim-size,-1))\n",
    "V=V_one"
   ]
  },
  {
   "cell_type": "code",
   "execution_count": 366,
   "metadata": {},
   "outputs": [],
   "source": [
    "out_max=up_lim-1\n",
    "for i in range(1,size-1):\n",
    "    in_max=out_max\n",
    "    for j in range(i+1):\n",
    "        V_one=np.array(range(in_max,in_max-size,-1))\n",
    "        V=np.append(V,V_one)\n",
    "        in_max -= 1\n",
    "    out_max-=1"
   ]
  },
  {
   "cell_type": "code",
   "execution_count": null,
   "metadata": {},
   "outputs": [],
   "source": []
  }
 ],
 "metadata": {
  "kernelspec": {
   "display_name": "Wave",
   "language": "python",
   "name": "wave"
  },
  "language_info": {
   "codemirror_mode": {
    "name": "ipython",
    "version": 3
   },
   "file_extension": ".py",
   "mimetype": "text/x-python",
   "name": "python",
   "nbconvert_exporter": "python",
   "pygments_lexer": "ipython3",
   "version": "3.7.5"
  }
 },
 "nbformat": 4,
 "nbformat_minor": 4
}
