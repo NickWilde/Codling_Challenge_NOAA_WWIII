{
 "cells": [
  {
   "cell_type": "markdown",
   "metadata": {},
   "source": [
    "## Explaination"
   ]
  },
  {
   "cell_type": "markdown",
   "metadata": {},
   "source": [
    "This notebook calculate the monthly average wave period from the dataset, the period of wave is related to the magnitude of the wave and how will the marine vessel moves with the wave. Here we calculate the average wave period of the month and visualze it on the map. The resulted image is at the end of this notebook.\n",
    "\n",
    "Note that I developed this code with Pycharm, so when moving it from Pycharm to the Jupyter Notebook, the progress bar won't work. I have to find an alternative way to implement a simple progress bar to show the progress, otherwise we don't know if the code is working as expected. So you will notice the code for the progress bar is different in this notebook, the other part remain the same."
   ]
  },
  {
   "cell_type": "markdown",
   "metadata": {},
   "source": [
    "## Import Library"
   ]
  },
  {
   "cell_type": "code",
   "execution_count": 45,
   "metadata": {},
   "outputs": [],
   "source": [
    "import os\n",
    "os.environ['PROJ_LIB'] = '/Users/Krasus/miniconda3/envs/Wave/share/proj'\n",
    "from pathlib import Path\n",
    "import matplotlib.pyplot as plt\n",
    "import pygrib\n",
    "from progress.bar import Bar\n",
    "from mpl_toolkits.basemap import Basemap\n",
    "from ipywidgets import IntProgress\n",
    "from IPython.display import *"
   ]
  },
  {
   "cell_type": "markdown",
   "metadata": {},
   "source": [
    "## Define Input Path"
   ]
  },
  {
   "cell_type": "code",
   "execution_count": null,
   "metadata": {},
   "outputs": [],
   "source": [
    "Date=input('Enter:yyyyMM\\n')\n",
    "type = 'tp'\n",
    "target = 'multi_1.glo_30m.' + type + '.' + Date + '.grb2'\n",
    "datapath = './'+Date+'/gribs/'+target"
   ]
  },
  {
   "cell_type": "markdown",
   "metadata": {},
   "source": [
    "## set up Range"
   ]
  },
  {
   "cell_type": "code",
   "execution_count": null,
   "metadata": {},
   "outputs": [],
   "source": [
    "llclon=122.04945\n",
    "llclat=2.05\n",
    "urclon=240.25024\n",
    "urclat=63.50602"
   ]
  },
  {
   "cell_type": "markdown",
   "metadata": {},
   "source": [
    "## Input & Decode"
   ]
  },
  {
   "cell_type": "code",
   "execution_count": null,
   "metadata": {},
   "outputs": [],
   "source": [
    "name = 'Primary wave mean period (s)'\n",
    "outpath='./AnalysisResult/'+Date+'/'\n",
    "print('Store in: '+outpath)\n",
    "Path(outpath).mkdir(parents=True, exist_ok=True)\n",
    "\n",
    "gribs = pygrib.open(datapath)\n",
    "for grb in gribs:\n",
    "    grb\n",
    "M_Num=gribs.tell()-1"
   ]
  },
  {
   "cell_type": "markdown",
   "metadata": {},
   "source": [
    "## Calculate Average"
   ]
  },
  {
   "cell_type": "code",
   "execution_count": 46,
   "metadata": {},
   "outputs": [
    {
     "name": "stdout",
     "output_type": "stream",
     "text": [
      "Enter:yyyyMM\n",
      "201801\n",
      "Store in: ./AnalysisResult/201801/\n"
     ]
    },
    {
     "data": {
      "application/vnd.jupyter.widget-view+json": {
       "model_id": "2b5d43b757ed43b0a23f0d2494e42585",
       "version_major": 2,
       "version_minor": 0
      },
      "text/plain": [
       "IntProgress(value=0, max=249)"
      ]
     },
     "metadata": {},
     "output_type": "display_data"
    },
    {
     "data": {
      "application/vnd.jupyter.widget-view+json": {
       "model_id": "2b5d43b757ed43b0a23f0d2494e42585",
       "version_major": 2,
       "version_minor": 0
      },
      "text/plain": [
       "IntProgress(value=1, max=249)"
      ]
     },
     "metadata": {},
     "output_type": "display_data"
    },
    {
     "data": {
      "application/vnd.jupyter.widget-view+json": {
       "model_id": "2b5d43b757ed43b0a23f0d2494e42585",
       "version_major": 2,
       "version_minor": 0
      },
      "text/plain": [
       "IntProgress(value=2, max=249)"
      ]
     },
     "metadata": {},
     "output_type": "display_data"
    },
    {
     "data": {
      "application/vnd.jupyter.widget-view+json": {
       "model_id": "2b5d43b757ed43b0a23f0d2494e42585",
       "version_major": 2,
       "version_minor": 0
      },
      "text/plain": [
       "IntProgress(value=3, max=249)"
      ]
     },
     "metadata": {},
     "output_type": "display_data"
    },
    {
     "data": {
      "application/vnd.jupyter.widget-view+json": {
       "model_id": "2b5d43b757ed43b0a23f0d2494e42585",
       "version_major": 2,
       "version_minor": 0
      },
      "text/plain": [
       "IntProgress(value=4, max=249)"
      ]
     },
     "metadata": {},
     "output_type": "display_data"
    },
    {
     "data": {
      "application/vnd.jupyter.widget-view+json": {
       "model_id": "2b5d43b757ed43b0a23f0d2494e42585",
       "version_major": 2,
       "version_minor": 0
      },
      "text/plain": [
       "IntProgress(value=5, max=249)"
      ]
     },
     "metadata": {},
     "output_type": "display_data"
    },
    {
     "data": {
      "application/vnd.jupyter.widget-view+json": {
       "model_id": "2b5d43b757ed43b0a23f0d2494e42585",
       "version_major": 2,
       "version_minor": 0
      },
      "text/plain": [
       "IntProgress(value=6, max=249)"
      ]
     },
     "metadata": {},
     "output_type": "display_data"
    },
    {
     "data": {
      "application/vnd.jupyter.widget-view+json": {
       "model_id": "2b5d43b757ed43b0a23f0d2494e42585",
       "version_major": 2,
       "version_minor": 0
      },
      "text/plain": [
       "IntProgress(value=7, max=249)"
      ]
     },
     "metadata": {},
     "output_type": "display_data"
    },
    {
     "data": {
      "application/vnd.jupyter.widget-view+json": {
       "model_id": "2b5d43b757ed43b0a23f0d2494e42585",
       "version_major": 2,
       "version_minor": 0
      },
      "text/plain": [
       "IntProgress(value=8, max=249)"
      ]
     },
     "metadata": {},
     "output_type": "display_data"
    },
    {
     "data": {
      "application/vnd.jupyter.widget-view+json": {
       "model_id": "2b5d43b757ed43b0a23f0d2494e42585",
       "version_major": 2,
       "version_minor": 0
      },
      "text/plain": [
       "IntProgress(value=9, max=249)"
      ]
     },
     "metadata": {},
     "output_type": "display_data"
    },
    {
     "data": {
      "application/vnd.jupyter.widget-view+json": {
       "model_id": "2b5d43b757ed43b0a23f0d2494e42585",
       "version_major": 2,
       "version_minor": 0
      },
      "text/plain": [
       "IntProgress(value=10, max=249)"
      ]
     },
     "metadata": {},
     "output_type": "display_data"
    },
    {
     "data": {
      "application/vnd.jupyter.widget-view+json": {
       "model_id": "2b5d43b757ed43b0a23f0d2494e42585",
       "version_major": 2,
       "version_minor": 0
      },
      "text/plain": [
       "IntProgress(value=11, max=249)"
      ]
     },
     "metadata": {},
     "output_type": "display_data"
    },
    {
     "data": {
      "application/vnd.jupyter.widget-view+json": {
       "model_id": "2b5d43b757ed43b0a23f0d2494e42585",
       "version_major": 2,
       "version_minor": 0
      },
      "text/plain": [
       "IntProgress(value=12, max=249)"
      ]
     },
     "metadata": {},
     "output_type": "display_data"
    },
    {
     "data": {
      "application/vnd.jupyter.widget-view+json": {
       "model_id": "2b5d43b757ed43b0a23f0d2494e42585",
       "version_major": 2,
       "version_minor": 0
      },
      "text/plain": [
       "IntProgress(value=13, max=249)"
      ]
     },
     "metadata": {},
     "output_type": "display_data"
    },
    {
     "data": {
      "application/vnd.jupyter.widget-view+json": {
       "model_id": "2b5d43b757ed43b0a23f0d2494e42585",
       "version_major": 2,
       "version_minor": 0
      },
      "text/plain": [
       "IntProgress(value=14, max=249)"
      ]
     },
     "metadata": {},
     "output_type": "display_data"
    },
    {
     "data": {
      "application/vnd.jupyter.widget-view+json": {
       "model_id": "2b5d43b757ed43b0a23f0d2494e42585",
       "version_major": 2,
       "version_minor": 0
      },
      "text/plain": [
       "IntProgress(value=15, max=249)"
      ]
     },
     "metadata": {},
     "output_type": "display_data"
    },
    {
     "data": {
      "application/vnd.jupyter.widget-view+json": {
       "model_id": "2b5d43b757ed43b0a23f0d2494e42585",
       "version_major": 2,
       "version_minor": 0
      },
      "text/plain": [
       "IntProgress(value=16, max=249)"
      ]
     },
     "metadata": {},
     "output_type": "display_data"
    },
    {
     "data": {
      "application/vnd.jupyter.widget-view+json": {
       "model_id": "2b5d43b757ed43b0a23f0d2494e42585",
       "version_major": 2,
       "version_minor": 0
      },
      "text/plain": [
       "IntProgress(value=17, max=249)"
      ]
     },
     "metadata": {},
     "output_type": "display_data"
    },
    {
     "data": {
      "application/vnd.jupyter.widget-view+json": {
       "model_id": "2b5d43b757ed43b0a23f0d2494e42585",
       "version_major": 2,
       "version_minor": 0
      },
      "text/plain": [
       "IntProgress(value=18, max=249)"
      ]
     },
     "metadata": {},
     "output_type": "display_data"
    },
    {
     "data": {
      "application/vnd.jupyter.widget-view+json": {
       "model_id": "2b5d43b757ed43b0a23f0d2494e42585",
       "version_major": 2,
       "version_minor": 0
      },
      "text/plain": [
       "IntProgress(value=19, max=249)"
      ]
     },
     "metadata": {},
     "output_type": "display_data"
    },
    {
     "data": {
      "application/vnd.jupyter.widget-view+json": {
       "model_id": "2b5d43b757ed43b0a23f0d2494e42585",
       "version_major": 2,
       "version_minor": 0
      },
      "text/plain": [
       "IntProgress(value=20, max=249)"
      ]
     },
     "metadata": {},
     "output_type": "display_data"
    },
    {
     "data": {
      "application/vnd.jupyter.widget-view+json": {
       "model_id": "2b5d43b757ed43b0a23f0d2494e42585",
       "version_major": 2,
       "version_minor": 0
      },
      "text/plain": [
       "IntProgress(value=21, max=249)"
      ]
     },
     "metadata": {},
     "output_type": "display_data"
    },
    {
     "data": {
      "application/vnd.jupyter.widget-view+json": {
       "model_id": "2b5d43b757ed43b0a23f0d2494e42585",
       "version_major": 2,
       "version_minor": 0
      },
      "text/plain": [
       "IntProgress(value=22, max=249)"
      ]
     },
     "metadata": {},
     "output_type": "display_data"
    },
    {
     "data": {
      "application/vnd.jupyter.widget-view+json": {
       "model_id": "2b5d43b757ed43b0a23f0d2494e42585",
       "version_major": 2,
       "version_minor": 0
      },
      "text/plain": [
       "IntProgress(value=23, max=249)"
      ]
     },
     "metadata": {},
     "output_type": "display_data"
    },
    {
     "data": {
      "application/vnd.jupyter.widget-view+json": {
       "model_id": "2b5d43b757ed43b0a23f0d2494e42585",
       "version_major": 2,
       "version_minor": 0
      },
      "text/plain": [
       "IntProgress(value=24, max=249)"
      ]
     },
     "metadata": {},
     "output_type": "display_data"
    },
    {
     "data": {
      "application/vnd.jupyter.widget-view+json": {
       "model_id": "2b5d43b757ed43b0a23f0d2494e42585",
       "version_major": 2,
       "version_minor": 0
      },
      "text/plain": [
       "IntProgress(value=25, max=249)"
      ]
     },
     "metadata": {},
     "output_type": "display_data"
    },
    {
     "data": {
      "application/vnd.jupyter.widget-view+json": {
       "model_id": "2b5d43b757ed43b0a23f0d2494e42585",
       "version_major": 2,
       "version_minor": 0
      },
      "text/plain": [
       "IntProgress(value=26, max=249)"
      ]
     },
     "metadata": {},
     "output_type": "display_data"
    },
    {
     "data": {
      "application/vnd.jupyter.widget-view+json": {
       "model_id": "2b5d43b757ed43b0a23f0d2494e42585",
       "version_major": 2,
       "version_minor": 0
      },
      "text/plain": [
       "IntProgress(value=27, max=249)"
      ]
     },
     "metadata": {},
     "output_type": "display_data"
    },
    {
     "data": {
      "application/vnd.jupyter.widget-view+json": {
       "model_id": "2b5d43b757ed43b0a23f0d2494e42585",
       "version_major": 2,
       "version_minor": 0
      },
      "text/plain": [
       "IntProgress(value=28, max=249)"
      ]
     },
     "metadata": {},
     "output_type": "display_data"
    },
    {
     "data": {
      "application/vnd.jupyter.widget-view+json": {
       "model_id": "2b5d43b757ed43b0a23f0d2494e42585",
       "version_major": 2,
       "version_minor": 0
      },
      "text/plain": [
       "IntProgress(value=29, max=249)"
      ]
     },
     "metadata": {},
     "output_type": "display_data"
    },
    {
     "data": {
      "application/vnd.jupyter.widget-view+json": {
       "model_id": "2b5d43b757ed43b0a23f0d2494e42585",
       "version_major": 2,
       "version_minor": 0
      },
      "text/plain": [
       "IntProgress(value=30, max=249)"
      ]
     },
     "metadata": {},
     "output_type": "display_data"
    },
    {
     "data": {
      "application/vnd.jupyter.widget-view+json": {
       "model_id": "2b5d43b757ed43b0a23f0d2494e42585",
       "version_major": 2,
       "version_minor": 0
      },
      "text/plain": [
       "IntProgress(value=31, max=249)"
      ]
     },
     "metadata": {},
     "output_type": "display_data"
    },
    {
     "data": {
      "application/vnd.jupyter.widget-view+json": {
       "model_id": "2b5d43b757ed43b0a23f0d2494e42585",
       "version_major": 2,
       "version_minor": 0
      },
      "text/plain": [
       "IntProgress(value=32, max=249)"
      ]
     },
     "metadata": {},
     "output_type": "display_data"
    },
    {
     "data": {
      "application/vnd.jupyter.widget-view+json": {
       "model_id": "2b5d43b757ed43b0a23f0d2494e42585",
       "version_major": 2,
       "version_minor": 0
      },
      "text/plain": [
       "IntProgress(value=33, max=249)"
      ]
     },
     "metadata": {},
     "output_type": "display_data"
    },
    {
     "data": {
      "application/vnd.jupyter.widget-view+json": {
       "model_id": "2b5d43b757ed43b0a23f0d2494e42585",
       "version_major": 2,
       "version_minor": 0
      },
      "text/plain": [
       "IntProgress(value=34, max=249)"
      ]
     },
     "metadata": {},
     "output_type": "display_data"
    },
    {
     "data": {
      "application/vnd.jupyter.widget-view+json": {
       "model_id": "2b5d43b757ed43b0a23f0d2494e42585",
       "version_major": 2,
       "version_minor": 0
      },
      "text/plain": [
       "IntProgress(value=35, max=249)"
      ]
     },
     "metadata": {},
     "output_type": "display_data"
    },
    {
     "data": {
      "application/vnd.jupyter.widget-view+json": {
       "model_id": "2b5d43b757ed43b0a23f0d2494e42585",
       "version_major": 2,
       "version_minor": 0
      },
      "text/plain": [
       "IntProgress(value=36, max=249)"
      ]
     },
     "metadata": {},
     "output_type": "display_data"
    },
    {
     "data": {
      "application/vnd.jupyter.widget-view+json": {
       "model_id": "2b5d43b757ed43b0a23f0d2494e42585",
       "version_major": 2,
       "version_minor": 0
      },
      "text/plain": [
       "IntProgress(value=37, max=249)"
      ]
     },
     "metadata": {},
     "output_type": "display_data"
    },
    {
     "data": {
      "application/vnd.jupyter.widget-view+json": {
       "model_id": "2b5d43b757ed43b0a23f0d2494e42585",
       "version_major": 2,
       "version_minor": 0
      },
      "text/plain": [
       "IntProgress(value=38, max=249)"
      ]
     },
     "metadata": {},
     "output_type": "display_data"
    },
    {
     "data": {
      "application/vnd.jupyter.widget-view+json": {
       "model_id": "2b5d43b757ed43b0a23f0d2494e42585",
       "version_major": 2,
       "version_minor": 0
      },
      "text/plain": [
       "IntProgress(value=39, max=249)"
      ]
     },
     "metadata": {},
     "output_type": "display_data"
    },
    {
     "data": {
      "application/vnd.jupyter.widget-view+json": {
       "model_id": "2b5d43b757ed43b0a23f0d2494e42585",
       "version_major": 2,
       "version_minor": 0
      },
      "text/plain": [
       "IntProgress(value=40, max=249)"
      ]
     },
     "metadata": {},
     "output_type": "display_data"
    },
    {
     "data": {
      "application/vnd.jupyter.widget-view+json": {
       "model_id": "2b5d43b757ed43b0a23f0d2494e42585",
       "version_major": 2,
       "version_minor": 0
      },
      "text/plain": [
       "IntProgress(value=41, max=249)"
      ]
     },
     "metadata": {},
     "output_type": "display_data"
    },
    {
     "data": {
      "application/vnd.jupyter.widget-view+json": {
       "model_id": "2b5d43b757ed43b0a23f0d2494e42585",
       "version_major": 2,
       "version_minor": 0
      },
      "text/plain": [
       "IntProgress(value=42, max=249)"
      ]
     },
     "metadata": {},
     "output_type": "display_data"
    },
    {
     "data": {
      "application/vnd.jupyter.widget-view+json": {
       "model_id": "2b5d43b757ed43b0a23f0d2494e42585",
       "version_major": 2,
       "version_minor": 0
      },
      "text/plain": [
       "IntProgress(value=43, max=249)"
      ]
     },
     "metadata": {},
     "output_type": "display_data"
    },
    {
     "data": {
      "application/vnd.jupyter.widget-view+json": {
       "model_id": "2b5d43b757ed43b0a23f0d2494e42585",
       "version_major": 2,
       "version_minor": 0
      },
      "text/plain": [
       "IntProgress(value=44, max=249)"
      ]
     },
     "metadata": {},
     "output_type": "display_data"
    },
    {
     "data": {
      "application/vnd.jupyter.widget-view+json": {
       "model_id": "2b5d43b757ed43b0a23f0d2494e42585",
       "version_major": 2,
       "version_minor": 0
      },
      "text/plain": [
       "IntProgress(value=45, max=249)"
      ]
     },
     "metadata": {},
     "output_type": "display_data"
    },
    {
     "data": {
      "application/vnd.jupyter.widget-view+json": {
       "model_id": "2b5d43b757ed43b0a23f0d2494e42585",
       "version_major": 2,
       "version_minor": 0
      },
      "text/plain": [
       "IntProgress(value=46, max=249)"
      ]
     },
     "metadata": {},
     "output_type": "display_data"
    },
    {
     "data": {
      "application/vnd.jupyter.widget-view+json": {
       "model_id": "2b5d43b757ed43b0a23f0d2494e42585",
       "version_major": 2,
       "version_minor": 0
      },
      "text/plain": [
       "IntProgress(value=47, max=249)"
      ]
     },
     "metadata": {},
     "output_type": "display_data"
    },
    {
     "data": {
      "application/vnd.jupyter.widget-view+json": {
       "model_id": "2b5d43b757ed43b0a23f0d2494e42585",
       "version_major": 2,
       "version_minor": 0
      },
      "text/plain": [
       "IntProgress(value=48, max=249)"
      ]
     },
     "metadata": {},
     "output_type": "display_data"
    },
    {
     "data": {
      "application/vnd.jupyter.widget-view+json": {
       "model_id": "2b5d43b757ed43b0a23f0d2494e42585",
       "version_major": 2,
       "version_minor": 0
      },
      "text/plain": [
       "IntProgress(value=49, max=249)"
      ]
     },
     "metadata": {},
     "output_type": "display_data"
    },
    {
     "data": {
      "application/vnd.jupyter.widget-view+json": {
       "model_id": "2b5d43b757ed43b0a23f0d2494e42585",
       "version_major": 2,
       "version_minor": 0
      },
      "text/plain": [
       "IntProgress(value=50, max=249)"
      ]
     },
     "metadata": {},
     "output_type": "display_data"
    },
    {
     "data": {
      "application/vnd.jupyter.widget-view+json": {
       "model_id": "2b5d43b757ed43b0a23f0d2494e42585",
       "version_major": 2,
       "version_minor": 0
      },
      "text/plain": [
       "IntProgress(value=51, max=249)"
      ]
     },
     "metadata": {},
     "output_type": "display_data"
    },
    {
     "data": {
      "application/vnd.jupyter.widget-view+json": {
       "model_id": "2b5d43b757ed43b0a23f0d2494e42585",
       "version_major": 2,
       "version_minor": 0
      },
      "text/plain": [
       "IntProgress(value=52, max=249)"
      ]
     },
     "metadata": {},
     "output_type": "display_data"
    },
    {
     "data": {
      "application/vnd.jupyter.widget-view+json": {
       "model_id": "2b5d43b757ed43b0a23f0d2494e42585",
       "version_major": 2,
       "version_minor": 0
      },
      "text/plain": [
       "IntProgress(value=53, max=249)"
      ]
     },
     "metadata": {},
     "output_type": "display_data"
    },
    {
     "data": {
      "application/vnd.jupyter.widget-view+json": {
       "model_id": "2b5d43b757ed43b0a23f0d2494e42585",
       "version_major": 2,
       "version_minor": 0
      },
      "text/plain": [
       "IntProgress(value=54, max=249)"
      ]
     },
     "metadata": {},
     "output_type": "display_data"
    },
    {
     "data": {
      "application/vnd.jupyter.widget-view+json": {
       "model_id": "2b5d43b757ed43b0a23f0d2494e42585",
       "version_major": 2,
       "version_minor": 0
      },
      "text/plain": [
       "IntProgress(value=55, max=249)"
      ]
     },
     "metadata": {},
     "output_type": "display_data"
    },
    {
     "data": {
      "application/vnd.jupyter.widget-view+json": {
       "model_id": "2b5d43b757ed43b0a23f0d2494e42585",
       "version_major": 2,
       "version_minor": 0
      },
      "text/plain": [
       "IntProgress(value=56, max=249)"
      ]
     },
     "metadata": {},
     "output_type": "display_data"
    },
    {
     "data": {
      "application/vnd.jupyter.widget-view+json": {
       "model_id": "2b5d43b757ed43b0a23f0d2494e42585",
       "version_major": 2,
       "version_minor": 0
      },
      "text/plain": [
       "IntProgress(value=57, max=249)"
      ]
     },
     "metadata": {},
     "output_type": "display_data"
    },
    {
     "data": {
      "application/vnd.jupyter.widget-view+json": {
       "model_id": "2b5d43b757ed43b0a23f0d2494e42585",
       "version_major": 2,
       "version_minor": 0
      },
      "text/plain": [
       "IntProgress(value=58, max=249)"
      ]
     },
     "metadata": {},
     "output_type": "display_data"
    },
    {
     "data": {
      "application/vnd.jupyter.widget-view+json": {
       "model_id": "2b5d43b757ed43b0a23f0d2494e42585",
       "version_major": 2,
       "version_minor": 0
      },
      "text/plain": [
       "IntProgress(value=59, max=249)"
      ]
     },
     "metadata": {},
     "output_type": "display_data"
    },
    {
     "data": {
      "application/vnd.jupyter.widget-view+json": {
       "model_id": "2b5d43b757ed43b0a23f0d2494e42585",
       "version_major": 2,
       "version_minor": 0
      },
      "text/plain": [
       "IntProgress(value=60, max=249)"
      ]
     },
     "metadata": {},
     "output_type": "display_data"
    },
    {
     "data": {
      "application/vnd.jupyter.widget-view+json": {
       "model_id": "2b5d43b757ed43b0a23f0d2494e42585",
       "version_major": 2,
       "version_minor": 0
      },
      "text/plain": [
       "IntProgress(value=61, max=249)"
      ]
     },
     "metadata": {},
     "output_type": "display_data"
    },
    {
     "data": {
      "application/vnd.jupyter.widget-view+json": {
       "model_id": "2b5d43b757ed43b0a23f0d2494e42585",
       "version_major": 2,
       "version_minor": 0
      },
      "text/plain": [
       "IntProgress(value=62, max=249)"
      ]
     },
     "metadata": {},
     "output_type": "display_data"
    },
    {
     "data": {
      "application/vnd.jupyter.widget-view+json": {
       "model_id": "2b5d43b757ed43b0a23f0d2494e42585",
       "version_major": 2,
       "version_minor": 0
      },
      "text/plain": [
       "IntProgress(value=63, max=249)"
      ]
     },
     "metadata": {},
     "output_type": "display_data"
    },
    {
     "data": {
      "application/vnd.jupyter.widget-view+json": {
       "model_id": "2b5d43b757ed43b0a23f0d2494e42585",
       "version_major": 2,
       "version_minor": 0
      },
      "text/plain": [
       "IntProgress(value=64, max=249)"
      ]
     },
     "metadata": {},
     "output_type": "display_data"
    },
    {
     "data": {
      "application/vnd.jupyter.widget-view+json": {
       "model_id": "2b5d43b757ed43b0a23f0d2494e42585",
       "version_major": 2,
       "version_minor": 0
      },
      "text/plain": [
       "IntProgress(value=65, max=249)"
      ]
     },
     "metadata": {},
     "output_type": "display_data"
    },
    {
     "data": {
      "application/vnd.jupyter.widget-view+json": {
       "model_id": "2b5d43b757ed43b0a23f0d2494e42585",
       "version_major": 2,
       "version_minor": 0
      },
      "text/plain": [
       "IntProgress(value=66, max=249)"
      ]
     },
     "metadata": {},
     "output_type": "display_data"
    },
    {
     "data": {
      "application/vnd.jupyter.widget-view+json": {
       "model_id": "2b5d43b757ed43b0a23f0d2494e42585",
       "version_major": 2,
       "version_minor": 0
      },
      "text/plain": [
       "IntProgress(value=67, max=249)"
      ]
     },
     "metadata": {},
     "output_type": "display_data"
    },
    {
     "data": {
      "application/vnd.jupyter.widget-view+json": {
       "model_id": "2b5d43b757ed43b0a23f0d2494e42585",
       "version_major": 2,
       "version_minor": 0
      },
      "text/plain": [
       "IntProgress(value=68, max=249)"
      ]
     },
     "metadata": {},
     "output_type": "display_data"
    },
    {
     "data": {
      "application/vnd.jupyter.widget-view+json": {
       "model_id": "2b5d43b757ed43b0a23f0d2494e42585",
       "version_major": 2,
       "version_minor": 0
      },
      "text/plain": [
       "IntProgress(value=69, max=249)"
      ]
     },
     "metadata": {},
     "output_type": "display_data"
    },
    {
     "data": {
      "application/vnd.jupyter.widget-view+json": {
       "model_id": "2b5d43b757ed43b0a23f0d2494e42585",
       "version_major": 2,
       "version_minor": 0
      },
      "text/plain": [
       "IntProgress(value=70, max=249)"
      ]
     },
     "metadata": {},
     "output_type": "display_data"
    },
    {
     "data": {
      "application/vnd.jupyter.widget-view+json": {
       "model_id": "2b5d43b757ed43b0a23f0d2494e42585",
       "version_major": 2,
       "version_minor": 0
      },
      "text/plain": [
       "IntProgress(value=71, max=249)"
      ]
     },
     "metadata": {},
     "output_type": "display_data"
    },
    {
     "data": {
      "application/vnd.jupyter.widget-view+json": {
       "model_id": "2b5d43b757ed43b0a23f0d2494e42585",
       "version_major": 2,
       "version_minor": 0
      },
      "text/plain": [
       "IntProgress(value=72, max=249)"
      ]
     },
     "metadata": {},
     "output_type": "display_data"
    },
    {
     "data": {
      "application/vnd.jupyter.widget-view+json": {
       "model_id": "2b5d43b757ed43b0a23f0d2494e42585",
       "version_major": 2,
       "version_minor": 0
      },
      "text/plain": [
       "IntProgress(value=73, max=249)"
      ]
     },
     "metadata": {},
     "output_type": "display_data"
    },
    {
     "data": {
      "application/vnd.jupyter.widget-view+json": {
       "model_id": "2b5d43b757ed43b0a23f0d2494e42585",
       "version_major": 2,
       "version_minor": 0
      },
      "text/plain": [
       "IntProgress(value=74, max=249)"
      ]
     },
     "metadata": {},
     "output_type": "display_data"
    },
    {
     "data": {
      "application/vnd.jupyter.widget-view+json": {
       "model_id": "2b5d43b757ed43b0a23f0d2494e42585",
       "version_major": 2,
       "version_minor": 0
      },
      "text/plain": [
       "IntProgress(value=75, max=249)"
      ]
     },
     "metadata": {},
     "output_type": "display_data"
    },
    {
     "data": {
      "application/vnd.jupyter.widget-view+json": {
       "model_id": "2b5d43b757ed43b0a23f0d2494e42585",
       "version_major": 2,
       "version_minor": 0
      },
      "text/plain": [
       "IntProgress(value=76, max=249)"
      ]
     },
     "metadata": {},
     "output_type": "display_data"
    },
    {
     "data": {
      "application/vnd.jupyter.widget-view+json": {
       "model_id": "2b5d43b757ed43b0a23f0d2494e42585",
       "version_major": 2,
       "version_minor": 0
      },
      "text/plain": [
       "IntProgress(value=77, max=249)"
      ]
     },
     "metadata": {},
     "output_type": "display_data"
    },
    {
     "data": {
      "application/vnd.jupyter.widget-view+json": {
       "model_id": "2b5d43b757ed43b0a23f0d2494e42585",
       "version_major": 2,
       "version_minor": 0
      },
      "text/plain": [
       "IntProgress(value=78, max=249)"
      ]
     },
     "metadata": {},
     "output_type": "display_data"
    },
    {
     "data": {
      "application/vnd.jupyter.widget-view+json": {
       "model_id": "2b5d43b757ed43b0a23f0d2494e42585",
       "version_major": 2,
       "version_minor": 0
      },
      "text/plain": [
       "IntProgress(value=79, max=249)"
      ]
     },
     "metadata": {},
     "output_type": "display_data"
    },
    {
     "data": {
      "application/vnd.jupyter.widget-view+json": {
       "model_id": "2b5d43b757ed43b0a23f0d2494e42585",
       "version_major": 2,
       "version_minor": 0
      },
      "text/plain": [
       "IntProgress(value=80, max=249)"
      ]
     },
     "metadata": {},
     "output_type": "display_data"
    },
    {
     "data": {
      "application/vnd.jupyter.widget-view+json": {
       "model_id": "2b5d43b757ed43b0a23f0d2494e42585",
       "version_major": 2,
       "version_minor": 0
      },
      "text/plain": [
       "IntProgress(value=81, max=249)"
      ]
     },
     "metadata": {},
     "output_type": "display_data"
    },
    {
     "data": {
      "application/vnd.jupyter.widget-view+json": {
       "model_id": "2b5d43b757ed43b0a23f0d2494e42585",
       "version_major": 2,
       "version_minor": 0
      },
      "text/plain": [
       "IntProgress(value=82, max=249)"
      ]
     },
     "metadata": {},
     "output_type": "display_data"
    },
    {
     "data": {
      "application/vnd.jupyter.widget-view+json": {
       "model_id": "2b5d43b757ed43b0a23f0d2494e42585",
       "version_major": 2,
       "version_minor": 0
      },
      "text/plain": [
       "IntProgress(value=83, max=249)"
      ]
     },
     "metadata": {},
     "output_type": "display_data"
    },
    {
     "data": {
      "application/vnd.jupyter.widget-view+json": {
       "model_id": "2b5d43b757ed43b0a23f0d2494e42585",
       "version_major": 2,
       "version_minor": 0
      },
      "text/plain": [
       "IntProgress(value=84, max=249)"
      ]
     },
     "metadata": {},
     "output_type": "display_data"
    },
    {
     "data": {
      "application/vnd.jupyter.widget-view+json": {
       "model_id": "2b5d43b757ed43b0a23f0d2494e42585",
       "version_major": 2,
       "version_minor": 0
      },
      "text/plain": [
       "IntProgress(value=85, max=249)"
      ]
     },
     "metadata": {},
     "output_type": "display_data"
    },
    {
     "data": {
      "application/vnd.jupyter.widget-view+json": {
       "model_id": "2b5d43b757ed43b0a23f0d2494e42585",
       "version_major": 2,
       "version_minor": 0
      },
      "text/plain": [
       "IntProgress(value=86, max=249)"
      ]
     },
     "metadata": {},
     "output_type": "display_data"
    },
    {
     "data": {
      "application/vnd.jupyter.widget-view+json": {
       "model_id": "2b5d43b757ed43b0a23f0d2494e42585",
       "version_major": 2,
       "version_minor": 0
      },
      "text/plain": [
       "IntProgress(value=87, max=249)"
      ]
     },
     "metadata": {},
     "output_type": "display_data"
    },
    {
     "data": {
      "application/vnd.jupyter.widget-view+json": {
       "model_id": "2b5d43b757ed43b0a23f0d2494e42585",
       "version_major": 2,
       "version_minor": 0
      },
      "text/plain": [
       "IntProgress(value=88, max=249)"
      ]
     },
     "metadata": {},
     "output_type": "display_data"
    },
    {
     "data": {
      "application/vnd.jupyter.widget-view+json": {
       "model_id": "2b5d43b757ed43b0a23f0d2494e42585",
       "version_major": 2,
       "version_minor": 0
      },
      "text/plain": [
       "IntProgress(value=89, max=249)"
      ]
     },
     "metadata": {},
     "output_type": "display_data"
    },
    {
     "data": {
      "application/vnd.jupyter.widget-view+json": {
       "model_id": "2b5d43b757ed43b0a23f0d2494e42585",
       "version_major": 2,
       "version_minor": 0
      },
      "text/plain": [
       "IntProgress(value=90, max=249)"
      ]
     },
     "metadata": {},
     "output_type": "display_data"
    },
    {
     "data": {
      "application/vnd.jupyter.widget-view+json": {
       "model_id": "2b5d43b757ed43b0a23f0d2494e42585",
       "version_major": 2,
       "version_minor": 0
      },
      "text/plain": [
       "IntProgress(value=91, max=249)"
      ]
     },
     "metadata": {},
     "output_type": "display_data"
    },
    {
     "data": {
      "application/vnd.jupyter.widget-view+json": {
       "model_id": "2b5d43b757ed43b0a23f0d2494e42585",
       "version_major": 2,
       "version_minor": 0
      },
      "text/plain": [
       "IntProgress(value=92, max=249)"
      ]
     },
     "metadata": {},
     "output_type": "display_data"
    },
    {
     "data": {
      "application/vnd.jupyter.widget-view+json": {
       "model_id": "2b5d43b757ed43b0a23f0d2494e42585",
       "version_major": 2,
       "version_minor": 0
      },
      "text/plain": [
       "IntProgress(value=93, max=249)"
      ]
     },
     "metadata": {},
     "output_type": "display_data"
    },
    {
     "data": {
      "application/vnd.jupyter.widget-view+json": {
       "model_id": "2b5d43b757ed43b0a23f0d2494e42585",
       "version_major": 2,
       "version_minor": 0
      },
      "text/plain": [
       "IntProgress(value=94, max=249)"
      ]
     },
     "metadata": {},
     "output_type": "display_data"
    },
    {
     "data": {
      "application/vnd.jupyter.widget-view+json": {
       "model_id": "2b5d43b757ed43b0a23f0d2494e42585",
       "version_major": 2,
       "version_minor": 0
      },
      "text/plain": [
       "IntProgress(value=95, max=249)"
      ]
     },
     "metadata": {},
     "output_type": "display_data"
    },
    {
     "data": {
      "application/vnd.jupyter.widget-view+json": {
       "model_id": "2b5d43b757ed43b0a23f0d2494e42585",
       "version_major": 2,
       "version_minor": 0
      },
      "text/plain": [
       "IntProgress(value=96, max=249)"
      ]
     },
     "metadata": {},
     "output_type": "display_data"
    },
    {
     "data": {
      "application/vnd.jupyter.widget-view+json": {
       "model_id": "2b5d43b757ed43b0a23f0d2494e42585",
       "version_major": 2,
       "version_minor": 0
      },
      "text/plain": [
       "IntProgress(value=97, max=249)"
      ]
     },
     "metadata": {},
     "output_type": "display_data"
    },
    {
     "data": {
      "application/vnd.jupyter.widget-view+json": {
       "model_id": "2b5d43b757ed43b0a23f0d2494e42585",
       "version_major": 2,
       "version_minor": 0
      },
      "text/plain": [
       "IntProgress(value=98, max=249)"
      ]
     },
     "metadata": {},
     "output_type": "display_data"
    },
    {
     "data": {
      "application/vnd.jupyter.widget-view+json": {
       "model_id": "2b5d43b757ed43b0a23f0d2494e42585",
       "version_major": 2,
       "version_minor": 0
      },
      "text/plain": [
       "IntProgress(value=99, max=249)"
      ]
     },
     "metadata": {},
     "output_type": "display_data"
    },
    {
     "data": {
      "application/vnd.jupyter.widget-view+json": {
       "model_id": "2b5d43b757ed43b0a23f0d2494e42585",
       "version_major": 2,
       "version_minor": 0
      },
      "text/plain": [
       "IntProgress(value=100, max=249)"
      ]
     },
     "metadata": {},
     "output_type": "display_data"
    },
    {
     "data": {
      "application/vnd.jupyter.widget-view+json": {
       "model_id": "2b5d43b757ed43b0a23f0d2494e42585",
       "version_major": 2,
       "version_minor": 0
      },
      "text/plain": [
       "IntProgress(value=101, max=249)"
      ]
     },
     "metadata": {},
     "output_type": "display_data"
    },
    {
     "data": {
      "application/vnd.jupyter.widget-view+json": {
       "model_id": "2b5d43b757ed43b0a23f0d2494e42585",
       "version_major": 2,
       "version_minor": 0
      },
      "text/plain": [
       "IntProgress(value=102, max=249)"
      ]
     },
     "metadata": {},
     "output_type": "display_data"
    },
    {
     "data": {
      "application/vnd.jupyter.widget-view+json": {
       "model_id": "2b5d43b757ed43b0a23f0d2494e42585",
       "version_major": 2,
       "version_minor": 0
      },
      "text/plain": [
       "IntProgress(value=103, max=249)"
      ]
     },
     "metadata": {},
     "output_type": "display_data"
    },
    {
     "data": {
      "application/vnd.jupyter.widget-view+json": {
       "model_id": "2b5d43b757ed43b0a23f0d2494e42585",
       "version_major": 2,
       "version_minor": 0
      },
      "text/plain": [
       "IntProgress(value=104, max=249)"
      ]
     },
     "metadata": {},
     "output_type": "display_data"
    },
    {
     "data": {
      "application/vnd.jupyter.widget-view+json": {
       "model_id": "2b5d43b757ed43b0a23f0d2494e42585",
       "version_major": 2,
       "version_minor": 0
      },
      "text/plain": [
       "IntProgress(value=105, max=249)"
      ]
     },
     "metadata": {},
     "output_type": "display_data"
    },
    {
     "data": {
      "application/vnd.jupyter.widget-view+json": {
       "model_id": "2b5d43b757ed43b0a23f0d2494e42585",
       "version_major": 2,
       "version_minor": 0
      },
      "text/plain": [
       "IntProgress(value=106, max=249)"
      ]
     },
     "metadata": {},
     "output_type": "display_data"
    },
    {
     "data": {
      "application/vnd.jupyter.widget-view+json": {
       "model_id": "2b5d43b757ed43b0a23f0d2494e42585",
       "version_major": 2,
       "version_minor": 0
      },
      "text/plain": [
       "IntProgress(value=107, max=249)"
      ]
     },
     "metadata": {},
     "output_type": "display_data"
    },
    {
     "data": {
      "application/vnd.jupyter.widget-view+json": {
       "model_id": "2b5d43b757ed43b0a23f0d2494e42585",
       "version_major": 2,
       "version_minor": 0
      },
      "text/plain": [
       "IntProgress(value=108, max=249)"
      ]
     },
     "metadata": {},
     "output_type": "display_data"
    },
    {
     "data": {
      "application/vnd.jupyter.widget-view+json": {
       "model_id": "2b5d43b757ed43b0a23f0d2494e42585",
       "version_major": 2,
       "version_minor": 0
      },
      "text/plain": [
       "IntProgress(value=109, max=249)"
      ]
     },
     "metadata": {},
     "output_type": "display_data"
    },
    {
     "data": {
      "application/vnd.jupyter.widget-view+json": {
       "model_id": "2b5d43b757ed43b0a23f0d2494e42585",
       "version_major": 2,
       "version_minor": 0
      },
      "text/plain": [
       "IntProgress(value=110, max=249)"
      ]
     },
     "metadata": {},
     "output_type": "display_data"
    },
    {
     "data": {
      "application/vnd.jupyter.widget-view+json": {
       "model_id": "2b5d43b757ed43b0a23f0d2494e42585",
       "version_major": 2,
       "version_minor": 0
      },
      "text/plain": [
       "IntProgress(value=111, max=249)"
      ]
     },
     "metadata": {},
     "output_type": "display_data"
    },
    {
     "data": {
      "application/vnd.jupyter.widget-view+json": {
       "model_id": "2b5d43b757ed43b0a23f0d2494e42585",
       "version_major": 2,
       "version_minor": 0
      },
      "text/plain": [
       "IntProgress(value=112, max=249)"
      ]
     },
     "metadata": {},
     "output_type": "display_data"
    },
    {
     "data": {
      "application/vnd.jupyter.widget-view+json": {
       "model_id": "2b5d43b757ed43b0a23f0d2494e42585",
       "version_major": 2,
       "version_minor": 0
      },
      "text/plain": [
       "IntProgress(value=113, max=249)"
      ]
     },
     "metadata": {},
     "output_type": "display_data"
    },
    {
     "data": {
      "application/vnd.jupyter.widget-view+json": {
       "model_id": "2b5d43b757ed43b0a23f0d2494e42585",
       "version_major": 2,
       "version_minor": 0
      },
      "text/plain": [
       "IntProgress(value=114, max=249)"
      ]
     },
     "metadata": {},
     "output_type": "display_data"
    },
    {
     "data": {
      "application/vnd.jupyter.widget-view+json": {
       "model_id": "2b5d43b757ed43b0a23f0d2494e42585",
       "version_major": 2,
       "version_minor": 0
      },
      "text/plain": [
       "IntProgress(value=115, max=249)"
      ]
     },
     "metadata": {},
     "output_type": "display_data"
    },
    {
     "data": {
      "application/vnd.jupyter.widget-view+json": {
       "model_id": "2b5d43b757ed43b0a23f0d2494e42585",
       "version_major": 2,
       "version_minor": 0
      },
      "text/plain": [
       "IntProgress(value=116, max=249)"
      ]
     },
     "metadata": {},
     "output_type": "display_data"
    },
    {
     "data": {
      "application/vnd.jupyter.widget-view+json": {
       "model_id": "2b5d43b757ed43b0a23f0d2494e42585",
       "version_major": 2,
       "version_minor": 0
      },
      "text/plain": [
       "IntProgress(value=117, max=249)"
      ]
     },
     "metadata": {},
     "output_type": "display_data"
    },
    {
     "data": {
      "application/vnd.jupyter.widget-view+json": {
       "model_id": "2b5d43b757ed43b0a23f0d2494e42585",
       "version_major": 2,
       "version_minor": 0
      },
      "text/plain": [
       "IntProgress(value=118, max=249)"
      ]
     },
     "metadata": {},
     "output_type": "display_data"
    },
    {
     "data": {
      "application/vnd.jupyter.widget-view+json": {
       "model_id": "2b5d43b757ed43b0a23f0d2494e42585",
       "version_major": 2,
       "version_minor": 0
      },
      "text/plain": [
       "IntProgress(value=119, max=249)"
      ]
     },
     "metadata": {},
     "output_type": "display_data"
    },
    {
     "data": {
      "application/vnd.jupyter.widget-view+json": {
       "model_id": "2b5d43b757ed43b0a23f0d2494e42585",
       "version_major": 2,
       "version_minor": 0
      },
      "text/plain": [
       "IntProgress(value=120, max=249)"
      ]
     },
     "metadata": {},
     "output_type": "display_data"
    },
    {
     "data": {
      "application/vnd.jupyter.widget-view+json": {
       "model_id": "2b5d43b757ed43b0a23f0d2494e42585",
       "version_major": 2,
       "version_minor": 0
      },
      "text/plain": [
       "IntProgress(value=121, max=249)"
      ]
     },
     "metadata": {},
     "output_type": "display_data"
    },
    {
     "data": {
      "application/vnd.jupyter.widget-view+json": {
       "model_id": "2b5d43b757ed43b0a23f0d2494e42585",
       "version_major": 2,
       "version_minor": 0
      },
      "text/plain": [
       "IntProgress(value=122, max=249)"
      ]
     },
     "metadata": {},
     "output_type": "display_data"
    },
    {
     "data": {
      "application/vnd.jupyter.widget-view+json": {
       "model_id": "2b5d43b757ed43b0a23f0d2494e42585",
       "version_major": 2,
       "version_minor": 0
      },
      "text/plain": [
       "IntProgress(value=123, max=249)"
      ]
     },
     "metadata": {},
     "output_type": "display_data"
    },
    {
     "data": {
      "application/vnd.jupyter.widget-view+json": {
       "model_id": "2b5d43b757ed43b0a23f0d2494e42585",
       "version_major": 2,
       "version_minor": 0
      },
      "text/plain": [
       "IntProgress(value=124, max=249)"
      ]
     },
     "metadata": {},
     "output_type": "display_data"
    },
    {
     "data": {
      "application/vnd.jupyter.widget-view+json": {
       "model_id": "2b5d43b757ed43b0a23f0d2494e42585",
       "version_major": 2,
       "version_minor": 0
      },
      "text/plain": [
       "IntProgress(value=125, max=249)"
      ]
     },
     "metadata": {},
     "output_type": "display_data"
    },
    {
     "data": {
      "application/vnd.jupyter.widget-view+json": {
       "model_id": "2b5d43b757ed43b0a23f0d2494e42585",
       "version_major": 2,
       "version_minor": 0
      },
      "text/plain": [
       "IntProgress(value=126, max=249)"
      ]
     },
     "metadata": {},
     "output_type": "display_data"
    },
    {
     "data": {
      "application/vnd.jupyter.widget-view+json": {
       "model_id": "2b5d43b757ed43b0a23f0d2494e42585",
       "version_major": 2,
       "version_minor": 0
      },
      "text/plain": [
       "IntProgress(value=127, max=249)"
      ]
     },
     "metadata": {},
     "output_type": "display_data"
    },
    {
     "data": {
      "application/vnd.jupyter.widget-view+json": {
       "model_id": "2b5d43b757ed43b0a23f0d2494e42585",
       "version_major": 2,
       "version_minor": 0
      },
      "text/plain": [
       "IntProgress(value=128, max=249)"
      ]
     },
     "metadata": {},
     "output_type": "display_data"
    },
    {
     "name": "stdout",
     "output_type": "stream",
     "text": [
      "\n",
      "Skip 129 th value because of redundant\n"
     ]
    },
    {
     "data": {
      "application/vnd.jupyter.widget-view+json": {
       "model_id": "2b5d43b757ed43b0a23f0d2494e42585",
       "version_major": 2,
       "version_minor": 0
      },
      "text/plain": [
       "IntProgress(value=129, max=249)"
      ]
     },
     "metadata": {},
     "output_type": "display_data"
    },
    {
     "data": {
      "application/vnd.jupyter.widget-view+json": {
       "model_id": "2b5d43b757ed43b0a23f0d2494e42585",
       "version_major": 2,
       "version_minor": 0
      },
      "text/plain": [
       "IntProgress(value=130, max=249)"
      ]
     },
     "metadata": {},
     "output_type": "display_data"
    },
    {
     "data": {
      "application/vnd.jupyter.widget-view+json": {
       "model_id": "2b5d43b757ed43b0a23f0d2494e42585",
       "version_major": 2,
       "version_minor": 0
      },
      "text/plain": [
       "IntProgress(value=131, max=249)"
      ]
     },
     "metadata": {},
     "output_type": "display_data"
    },
    {
     "data": {
      "application/vnd.jupyter.widget-view+json": {
       "model_id": "2b5d43b757ed43b0a23f0d2494e42585",
       "version_major": 2,
       "version_minor": 0
      },
      "text/plain": [
       "IntProgress(value=132, max=249)"
      ]
     },
     "metadata": {},
     "output_type": "display_data"
    },
    {
     "data": {
      "application/vnd.jupyter.widget-view+json": {
       "model_id": "2b5d43b757ed43b0a23f0d2494e42585",
       "version_major": 2,
       "version_minor": 0
      },
      "text/plain": [
       "IntProgress(value=133, max=249)"
      ]
     },
     "metadata": {},
     "output_type": "display_data"
    },
    {
     "data": {
      "application/vnd.jupyter.widget-view+json": {
       "model_id": "2b5d43b757ed43b0a23f0d2494e42585",
       "version_major": 2,
       "version_minor": 0
      },
      "text/plain": [
       "IntProgress(value=134, max=249)"
      ]
     },
     "metadata": {},
     "output_type": "display_data"
    },
    {
     "data": {
      "application/vnd.jupyter.widget-view+json": {
       "model_id": "2b5d43b757ed43b0a23f0d2494e42585",
       "version_major": 2,
       "version_minor": 0
      },
      "text/plain": [
       "IntProgress(value=135, max=249)"
      ]
     },
     "metadata": {},
     "output_type": "display_data"
    },
    {
     "data": {
      "application/vnd.jupyter.widget-view+json": {
       "model_id": "2b5d43b757ed43b0a23f0d2494e42585",
       "version_major": 2,
       "version_minor": 0
      },
      "text/plain": [
       "IntProgress(value=136, max=249)"
      ]
     },
     "metadata": {},
     "output_type": "display_data"
    },
    {
     "data": {
      "application/vnd.jupyter.widget-view+json": {
       "model_id": "2b5d43b757ed43b0a23f0d2494e42585",
       "version_major": 2,
       "version_minor": 0
      },
      "text/plain": [
       "IntProgress(value=137, max=249)"
      ]
     },
     "metadata": {},
     "output_type": "display_data"
    },
    {
     "data": {
      "application/vnd.jupyter.widget-view+json": {
       "model_id": "2b5d43b757ed43b0a23f0d2494e42585",
       "version_major": 2,
       "version_minor": 0
      },
      "text/plain": [
       "IntProgress(value=138, max=249)"
      ]
     },
     "metadata": {},
     "output_type": "display_data"
    },
    {
     "data": {
      "application/vnd.jupyter.widget-view+json": {
       "model_id": "2b5d43b757ed43b0a23f0d2494e42585",
       "version_major": 2,
       "version_minor": 0
      },
      "text/plain": [
       "IntProgress(value=139, max=249)"
      ]
     },
     "metadata": {},
     "output_type": "display_data"
    },
    {
     "data": {
      "application/vnd.jupyter.widget-view+json": {
       "model_id": "2b5d43b757ed43b0a23f0d2494e42585",
       "version_major": 2,
       "version_minor": 0
      },
      "text/plain": [
       "IntProgress(value=140, max=249)"
      ]
     },
     "metadata": {},
     "output_type": "display_data"
    },
    {
     "data": {
      "application/vnd.jupyter.widget-view+json": {
       "model_id": "2b5d43b757ed43b0a23f0d2494e42585",
       "version_major": 2,
       "version_minor": 0
      },
      "text/plain": [
       "IntProgress(value=141, max=249)"
      ]
     },
     "metadata": {},
     "output_type": "display_data"
    },
    {
     "data": {
      "application/vnd.jupyter.widget-view+json": {
       "model_id": "2b5d43b757ed43b0a23f0d2494e42585",
       "version_major": 2,
       "version_minor": 0
      },
      "text/plain": [
       "IntProgress(value=142, max=249)"
      ]
     },
     "metadata": {},
     "output_type": "display_data"
    },
    {
     "data": {
      "application/vnd.jupyter.widget-view+json": {
       "model_id": "2b5d43b757ed43b0a23f0d2494e42585",
       "version_major": 2,
       "version_minor": 0
      },
      "text/plain": [
       "IntProgress(value=143, max=249)"
      ]
     },
     "metadata": {},
     "output_type": "display_data"
    },
    {
     "data": {
      "application/vnd.jupyter.widget-view+json": {
       "model_id": "2b5d43b757ed43b0a23f0d2494e42585",
       "version_major": 2,
       "version_minor": 0
      },
      "text/plain": [
       "IntProgress(value=144, max=249)"
      ]
     },
     "metadata": {},
     "output_type": "display_data"
    },
    {
     "data": {
      "application/vnd.jupyter.widget-view+json": {
       "model_id": "2b5d43b757ed43b0a23f0d2494e42585",
       "version_major": 2,
       "version_minor": 0
      },
      "text/plain": [
       "IntProgress(value=145, max=249)"
      ]
     },
     "metadata": {},
     "output_type": "display_data"
    },
    {
     "data": {
      "application/vnd.jupyter.widget-view+json": {
       "model_id": "2b5d43b757ed43b0a23f0d2494e42585",
       "version_major": 2,
       "version_minor": 0
      },
      "text/plain": [
       "IntProgress(value=146, max=249)"
      ]
     },
     "metadata": {},
     "output_type": "display_data"
    },
    {
     "data": {
      "application/vnd.jupyter.widget-view+json": {
       "model_id": "2b5d43b757ed43b0a23f0d2494e42585",
       "version_major": 2,
       "version_minor": 0
      },
      "text/plain": [
       "IntProgress(value=147, max=249)"
      ]
     },
     "metadata": {},
     "output_type": "display_data"
    },
    {
     "data": {
      "application/vnd.jupyter.widget-view+json": {
       "model_id": "2b5d43b757ed43b0a23f0d2494e42585",
       "version_major": 2,
       "version_minor": 0
      },
      "text/plain": [
       "IntProgress(value=148, max=249)"
      ]
     },
     "metadata": {},
     "output_type": "display_data"
    },
    {
     "data": {
      "application/vnd.jupyter.widget-view+json": {
       "model_id": "2b5d43b757ed43b0a23f0d2494e42585",
       "version_major": 2,
       "version_minor": 0
      },
      "text/plain": [
       "IntProgress(value=149, max=249)"
      ]
     },
     "metadata": {},
     "output_type": "display_data"
    },
    {
     "data": {
      "application/vnd.jupyter.widget-view+json": {
       "model_id": "2b5d43b757ed43b0a23f0d2494e42585",
       "version_major": 2,
       "version_minor": 0
      },
      "text/plain": [
       "IntProgress(value=150, max=249)"
      ]
     },
     "metadata": {},
     "output_type": "display_data"
    },
    {
     "data": {
      "application/vnd.jupyter.widget-view+json": {
       "model_id": "2b5d43b757ed43b0a23f0d2494e42585",
       "version_major": 2,
       "version_minor": 0
      },
      "text/plain": [
       "IntProgress(value=151, max=249)"
      ]
     },
     "metadata": {},
     "output_type": "display_data"
    },
    {
     "data": {
      "application/vnd.jupyter.widget-view+json": {
       "model_id": "2b5d43b757ed43b0a23f0d2494e42585",
       "version_major": 2,
       "version_minor": 0
      },
      "text/plain": [
       "IntProgress(value=152, max=249)"
      ]
     },
     "metadata": {},
     "output_type": "display_data"
    },
    {
     "data": {
      "application/vnd.jupyter.widget-view+json": {
       "model_id": "2b5d43b757ed43b0a23f0d2494e42585",
       "version_major": 2,
       "version_minor": 0
      },
      "text/plain": [
       "IntProgress(value=153, max=249)"
      ]
     },
     "metadata": {},
     "output_type": "display_data"
    },
    {
     "data": {
      "application/vnd.jupyter.widget-view+json": {
       "model_id": "2b5d43b757ed43b0a23f0d2494e42585",
       "version_major": 2,
       "version_minor": 0
      },
      "text/plain": [
       "IntProgress(value=154, max=249)"
      ]
     },
     "metadata": {},
     "output_type": "display_data"
    },
    {
     "data": {
      "application/vnd.jupyter.widget-view+json": {
       "model_id": "2b5d43b757ed43b0a23f0d2494e42585",
       "version_major": 2,
       "version_minor": 0
      },
      "text/plain": [
       "IntProgress(value=155, max=249)"
      ]
     },
     "metadata": {},
     "output_type": "display_data"
    },
    {
     "data": {
      "application/vnd.jupyter.widget-view+json": {
       "model_id": "2b5d43b757ed43b0a23f0d2494e42585",
       "version_major": 2,
       "version_minor": 0
      },
      "text/plain": [
       "IntProgress(value=156, max=249)"
      ]
     },
     "metadata": {},
     "output_type": "display_data"
    },
    {
     "data": {
      "application/vnd.jupyter.widget-view+json": {
       "model_id": "2b5d43b757ed43b0a23f0d2494e42585",
       "version_major": 2,
       "version_minor": 0
      },
      "text/plain": [
       "IntProgress(value=157, max=249)"
      ]
     },
     "metadata": {},
     "output_type": "display_data"
    },
    {
     "data": {
      "application/vnd.jupyter.widget-view+json": {
       "model_id": "2b5d43b757ed43b0a23f0d2494e42585",
       "version_major": 2,
       "version_minor": 0
      },
      "text/plain": [
       "IntProgress(value=158, max=249)"
      ]
     },
     "metadata": {},
     "output_type": "display_data"
    },
    {
     "data": {
      "application/vnd.jupyter.widget-view+json": {
       "model_id": "2b5d43b757ed43b0a23f0d2494e42585",
       "version_major": 2,
       "version_minor": 0
      },
      "text/plain": [
       "IntProgress(value=159, max=249)"
      ]
     },
     "metadata": {},
     "output_type": "display_data"
    },
    {
     "data": {
      "application/vnd.jupyter.widget-view+json": {
       "model_id": "2b5d43b757ed43b0a23f0d2494e42585",
       "version_major": 2,
       "version_minor": 0
      },
      "text/plain": [
       "IntProgress(value=160, max=249)"
      ]
     },
     "metadata": {},
     "output_type": "display_data"
    },
    {
     "data": {
      "application/vnd.jupyter.widget-view+json": {
       "model_id": "2b5d43b757ed43b0a23f0d2494e42585",
       "version_major": 2,
       "version_minor": 0
      },
      "text/plain": [
       "IntProgress(value=161, max=249)"
      ]
     },
     "metadata": {},
     "output_type": "display_data"
    },
    {
     "data": {
      "application/vnd.jupyter.widget-view+json": {
       "model_id": "2b5d43b757ed43b0a23f0d2494e42585",
       "version_major": 2,
       "version_minor": 0
      },
      "text/plain": [
       "IntProgress(value=162, max=249)"
      ]
     },
     "metadata": {},
     "output_type": "display_data"
    },
    {
     "data": {
      "application/vnd.jupyter.widget-view+json": {
       "model_id": "2b5d43b757ed43b0a23f0d2494e42585",
       "version_major": 2,
       "version_minor": 0
      },
      "text/plain": [
       "IntProgress(value=163, max=249)"
      ]
     },
     "metadata": {},
     "output_type": "display_data"
    },
    {
     "data": {
      "application/vnd.jupyter.widget-view+json": {
       "model_id": "2b5d43b757ed43b0a23f0d2494e42585",
       "version_major": 2,
       "version_minor": 0
      },
      "text/plain": [
       "IntProgress(value=164, max=249)"
      ]
     },
     "metadata": {},
     "output_type": "display_data"
    },
    {
     "data": {
      "application/vnd.jupyter.widget-view+json": {
       "model_id": "2b5d43b757ed43b0a23f0d2494e42585",
       "version_major": 2,
       "version_minor": 0
      },
      "text/plain": [
       "IntProgress(value=165, max=249)"
      ]
     },
     "metadata": {},
     "output_type": "display_data"
    },
    {
     "data": {
      "application/vnd.jupyter.widget-view+json": {
       "model_id": "2b5d43b757ed43b0a23f0d2494e42585",
       "version_major": 2,
       "version_minor": 0
      },
      "text/plain": [
       "IntProgress(value=166, max=249)"
      ]
     },
     "metadata": {},
     "output_type": "display_data"
    },
    {
     "data": {
      "application/vnd.jupyter.widget-view+json": {
       "model_id": "2b5d43b757ed43b0a23f0d2494e42585",
       "version_major": 2,
       "version_minor": 0
      },
      "text/plain": [
       "IntProgress(value=167, max=249)"
      ]
     },
     "metadata": {},
     "output_type": "display_data"
    },
    {
     "data": {
      "application/vnd.jupyter.widget-view+json": {
       "model_id": "2b5d43b757ed43b0a23f0d2494e42585",
       "version_major": 2,
       "version_minor": 0
      },
      "text/plain": [
       "IntProgress(value=168, max=249)"
      ]
     },
     "metadata": {},
     "output_type": "display_data"
    },
    {
     "data": {
      "application/vnd.jupyter.widget-view+json": {
       "model_id": "2b5d43b757ed43b0a23f0d2494e42585",
       "version_major": 2,
       "version_minor": 0
      },
      "text/plain": [
       "IntProgress(value=169, max=249)"
      ]
     },
     "metadata": {},
     "output_type": "display_data"
    },
    {
     "data": {
      "application/vnd.jupyter.widget-view+json": {
       "model_id": "2b5d43b757ed43b0a23f0d2494e42585",
       "version_major": 2,
       "version_minor": 0
      },
      "text/plain": [
       "IntProgress(value=170, max=249)"
      ]
     },
     "metadata": {},
     "output_type": "display_data"
    },
    {
     "data": {
      "application/vnd.jupyter.widget-view+json": {
       "model_id": "2b5d43b757ed43b0a23f0d2494e42585",
       "version_major": 2,
       "version_minor": 0
      },
      "text/plain": [
       "IntProgress(value=171, max=249)"
      ]
     },
     "metadata": {},
     "output_type": "display_data"
    },
    {
     "data": {
      "application/vnd.jupyter.widget-view+json": {
       "model_id": "2b5d43b757ed43b0a23f0d2494e42585",
       "version_major": 2,
       "version_minor": 0
      },
      "text/plain": [
       "IntProgress(value=172, max=249)"
      ]
     },
     "metadata": {},
     "output_type": "display_data"
    },
    {
     "data": {
      "application/vnd.jupyter.widget-view+json": {
       "model_id": "2b5d43b757ed43b0a23f0d2494e42585",
       "version_major": 2,
       "version_minor": 0
      },
      "text/plain": [
       "IntProgress(value=173, max=249)"
      ]
     },
     "metadata": {},
     "output_type": "display_data"
    },
    {
     "data": {
      "application/vnd.jupyter.widget-view+json": {
       "model_id": "2b5d43b757ed43b0a23f0d2494e42585",
       "version_major": 2,
       "version_minor": 0
      },
      "text/plain": [
       "IntProgress(value=174, max=249)"
      ]
     },
     "metadata": {},
     "output_type": "display_data"
    },
    {
     "data": {
      "application/vnd.jupyter.widget-view+json": {
       "model_id": "2b5d43b757ed43b0a23f0d2494e42585",
       "version_major": 2,
       "version_minor": 0
      },
      "text/plain": [
       "IntProgress(value=175, max=249)"
      ]
     },
     "metadata": {},
     "output_type": "display_data"
    },
    {
     "data": {
      "application/vnd.jupyter.widget-view+json": {
       "model_id": "2b5d43b757ed43b0a23f0d2494e42585",
       "version_major": 2,
       "version_minor": 0
      },
      "text/plain": [
       "IntProgress(value=176, max=249)"
      ]
     },
     "metadata": {},
     "output_type": "display_data"
    },
    {
     "data": {
      "application/vnd.jupyter.widget-view+json": {
       "model_id": "2b5d43b757ed43b0a23f0d2494e42585",
       "version_major": 2,
       "version_minor": 0
      },
      "text/plain": [
       "IntProgress(value=177, max=249)"
      ]
     },
     "metadata": {},
     "output_type": "display_data"
    },
    {
     "data": {
      "application/vnd.jupyter.widget-view+json": {
       "model_id": "2b5d43b757ed43b0a23f0d2494e42585",
       "version_major": 2,
       "version_minor": 0
      },
      "text/plain": [
       "IntProgress(value=178, max=249)"
      ]
     },
     "metadata": {},
     "output_type": "display_data"
    },
    {
     "data": {
      "application/vnd.jupyter.widget-view+json": {
       "model_id": "2b5d43b757ed43b0a23f0d2494e42585",
       "version_major": 2,
       "version_minor": 0
      },
      "text/plain": [
       "IntProgress(value=179, max=249)"
      ]
     },
     "metadata": {},
     "output_type": "display_data"
    },
    {
     "data": {
      "application/vnd.jupyter.widget-view+json": {
       "model_id": "2b5d43b757ed43b0a23f0d2494e42585",
       "version_major": 2,
       "version_minor": 0
      },
      "text/plain": [
       "IntProgress(value=180, max=249)"
      ]
     },
     "metadata": {},
     "output_type": "display_data"
    },
    {
     "data": {
      "application/vnd.jupyter.widget-view+json": {
       "model_id": "2b5d43b757ed43b0a23f0d2494e42585",
       "version_major": 2,
       "version_minor": 0
      },
      "text/plain": [
       "IntProgress(value=181, max=249)"
      ]
     },
     "metadata": {},
     "output_type": "display_data"
    },
    {
     "data": {
      "application/vnd.jupyter.widget-view+json": {
       "model_id": "2b5d43b757ed43b0a23f0d2494e42585",
       "version_major": 2,
       "version_minor": 0
      },
      "text/plain": [
       "IntProgress(value=182, max=249)"
      ]
     },
     "metadata": {},
     "output_type": "display_data"
    },
    {
     "data": {
      "application/vnd.jupyter.widget-view+json": {
       "model_id": "2b5d43b757ed43b0a23f0d2494e42585",
       "version_major": 2,
       "version_minor": 0
      },
      "text/plain": [
       "IntProgress(value=183, max=249)"
      ]
     },
     "metadata": {},
     "output_type": "display_data"
    },
    {
     "data": {
      "application/vnd.jupyter.widget-view+json": {
       "model_id": "2b5d43b757ed43b0a23f0d2494e42585",
       "version_major": 2,
       "version_minor": 0
      },
      "text/plain": [
       "IntProgress(value=184, max=249)"
      ]
     },
     "metadata": {},
     "output_type": "display_data"
    },
    {
     "data": {
      "application/vnd.jupyter.widget-view+json": {
       "model_id": "2b5d43b757ed43b0a23f0d2494e42585",
       "version_major": 2,
       "version_minor": 0
      },
      "text/plain": [
       "IntProgress(value=185, max=249)"
      ]
     },
     "metadata": {},
     "output_type": "display_data"
    },
    {
     "data": {
      "application/vnd.jupyter.widget-view+json": {
       "model_id": "2b5d43b757ed43b0a23f0d2494e42585",
       "version_major": 2,
       "version_minor": 0
      },
      "text/plain": [
       "IntProgress(value=186, max=249)"
      ]
     },
     "metadata": {},
     "output_type": "display_data"
    },
    {
     "data": {
      "application/vnd.jupyter.widget-view+json": {
       "model_id": "2b5d43b757ed43b0a23f0d2494e42585",
       "version_major": 2,
       "version_minor": 0
      },
      "text/plain": [
       "IntProgress(value=187, max=249)"
      ]
     },
     "metadata": {},
     "output_type": "display_data"
    },
    {
     "data": {
      "application/vnd.jupyter.widget-view+json": {
       "model_id": "2b5d43b757ed43b0a23f0d2494e42585",
       "version_major": 2,
       "version_minor": 0
      },
      "text/plain": [
       "IntProgress(value=188, max=249)"
      ]
     },
     "metadata": {},
     "output_type": "display_data"
    },
    {
     "data": {
      "application/vnd.jupyter.widget-view+json": {
       "model_id": "2b5d43b757ed43b0a23f0d2494e42585",
       "version_major": 2,
       "version_minor": 0
      },
      "text/plain": [
       "IntProgress(value=189, max=249)"
      ]
     },
     "metadata": {},
     "output_type": "display_data"
    },
    {
     "data": {
      "application/vnd.jupyter.widget-view+json": {
       "model_id": "2b5d43b757ed43b0a23f0d2494e42585",
       "version_major": 2,
       "version_minor": 0
      },
      "text/plain": [
       "IntProgress(value=190, max=249)"
      ]
     },
     "metadata": {},
     "output_type": "display_data"
    },
    {
     "data": {
      "application/vnd.jupyter.widget-view+json": {
       "model_id": "2b5d43b757ed43b0a23f0d2494e42585",
       "version_major": 2,
       "version_minor": 0
      },
      "text/plain": [
       "IntProgress(value=191, max=249)"
      ]
     },
     "metadata": {},
     "output_type": "display_data"
    },
    {
     "data": {
      "application/vnd.jupyter.widget-view+json": {
       "model_id": "2b5d43b757ed43b0a23f0d2494e42585",
       "version_major": 2,
       "version_minor": 0
      },
      "text/plain": [
       "IntProgress(value=192, max=249)"
      ]
     },
     "metadata": {},
     "output_type": "display_data"
    },
    {
     "data": {
      "application/vnd.jupyter.widget-view+json": {
       "model_id": "2b5d43b757ed43b0a23f0d2494e42585",
       "version_major": 2,
       "version_minor": 0
      },
      "text/plain": [
       "IntProgress(value=193, max=249)"
      ]
     },
     "metadata": {},
     "output_type": "display_data"
    },
    {
     "data": {
      "application/vnd.jupyter.widget-view+json": {
       "model_id": "2b5d43b757ed43b0a23f0d2494e42585",
       "version_major": 2,
       "version_minor": 0
      },
      "text/plain": [
       "IntProgress(value=194, max=249)"
      ]
     },
     "metadata": {},
     "output_type": "display_data"
    },
    {
     "data": {
      "application/vnd.jupyter.widget-view+json": {
       "model_id": "2b5d43b757ed43b0a23f0d2494e42585",
       "version_major": 2,
       "version_minor": 0
      },
      "text/plain": [
       "IntProgress(value=195, max=249)"
      ]
     },
     "metadata": {},
     "output_type": "display_data"
    },
    {
     "data": {
      "application/vnd.jupyter.widget-view+json": {
       "model_id": "2b5d43b757ed43b0a23f0d2494e42585",
       "version_major": 2,
       "version_minor": 0
      },
      "text/plain": [
       "IntProgress(value=196, max=249)"
      ]
     },
     "metadata": {},
     "output_type": "display_data"
    },
    {
     "data": {
      "application/vnd.jupyter.widget-view+json": {
       "model_id": "2b5d43b757ed43b0a23f0d2494e42585",
       "version_major": 2,
       "version_minor": 0
      },
      "text/plain": [
       "IntProgress(value=197, max=249)"
      ]
     },
     "metadata": {},
     "output_type": "display_data"
    },
    {
     "data": {
      "application/vnd.jupyter.widget-view+json": {
       "model_id": "2b5d43b757ed43b0a23f0d2494e42585",
       "version_major": 2,
       "version_minor": 0
      },
      "text/plain": [
       "IntProgress(value=198, max=249)"
      ]
     },
     "metadata": {},
     "output_type": "display_data"
    },
    {
     "data": {
      "application/vnd.jupyter.widget-view+json": {
       "model_id": "2b5d43b757ed43b0a23f0d2494e42585",
       "version_major": 2,
       "version_minor": 0
      },
      "text/plain": [
       "IntProgress(value=199, max=249)"
      ]
     },
     "metadata": {},
     "output_type": "display_data"
    },
    {
     "data": {
      "application/vnd.jupyter.widget-view+json": {
       "model_id": "2b5d43b757ed43b0a23f0d2494e42585",
       "version_major": 2,
       "version_minor": 0
      },
      "text/plain": [
       "IntProgress(value=200, max=249)"
      ]
     },
     "metadata": {},
     "output_type": "display_data"
    },
    {
     "data": {
      "application/vnd.jupyter.widget-view+json": {
       "model_id": "2b5d43b757ed43b0a23f0d2494e42585",
       "version_major": 2,
       "version_minor": 0
      },
      "text/plain": [
       "IntProgress(value=201, max=249)"
      ]
     },
     "metadata": {},
     "output_type": "display_data"
    },
    {
     "data": {
      "application/vnd.jupyter.widget-view+json": {
       "model_id": "2b5d43b757ed43b0a23f0d2494e42585",
       "version_major": 2,
       "version_minor": 0
      },
      "text/plain": [
       "IntProgress(value=202, max=249)"
      ]
     },
     "metadata": {},
     "output_type": "display_data"
    },
    {
     "data": {
      "application/vnd.jupyter.widget-view+json": {
       "model_id": "2b5d43b757ed43b0a23f0d2494e42585",
       "version_major": 2,
       "version_minor": 0
      },
      "text/plain": [
       "IntProgress(value=203, max=249)"
      ]
     },
     "metadata": {},
     "output_type": "display_data"
    },
    {
     "data": {
      "application/vnd.jupyter.widget-view+json": {
       "model_id": "2b5d43b757ed43b0a23f0d2494e42585",
       "version_major": 2,
       "version_minor": 0
      },
      "text/plain": [
       "IntProgress(value=204, max=249)"
      ]
     },
     "metadata": {},
     "output_type": "display_data"
    },
    {
     "data": {
      "application/vnd.jupyter.widget-view+json": {
       "model_id": "2b5d43b757ed43b0a23f0d2494e42585",
       "version_major": 2,
       "version_minor": 0
      },
      "text/plain": [
       "IntProgress(value=205, max=249)"
      ]
     },
     "metadata": {},
     "output_type": "display_data"
    },
    {
     "data": {
      "application/vnd.jupyter.widget-view+json": {
       "model_id": "2b5d43b757ed43b0a23f0d2494e42585",
       "version_major": 2,
       "version_minor": 0
      },
      "text/plain": [
       "IntProgress(value=206, max=249)"
      ]
     },
     "metadata": {},
     "output_type": "display_data"
    },
    {
     "data": {
      "application/vnd.jupyter.widget-view+json": {
       "model_id": "2b5d43b757ed43b0a23f0d2494e42585",
       "version_major": 2,
       "version_minor": 0
      },
      "text/plain": [
       "IntProgress(value=207, max=249)"
      ]
     },
     "metadata": {},
     "output_type": "display_data"
    },
    {
     "data": {
      "application/vnd.jupyter.widget-view+json": {
       "model_id": "2b5d43b757ed43b0a23f0d2494e42585",
       "version_major": 2,
       "version_minor": 0
      },
      "text/plain": [
       "IntProgress(value=208, max=249)"
      ]
     },
     "metadata": {},
     "output_type": "display_data"
    },
    {
     "data": {
      "application/vnd.jupyter.widget-view+json": {
       "model_id": "2b5d43b757ed43b0a23f0d2494e42585",
       "version_major": 2,
       "version_minor": 0
      },
      "text/plain": [
       "IntProgress(value=209, max=249)"
      ]
     },
     "metadata": {},
     "output_type": "display_data"
    },
    {
     "data": {
      "application/vnd.jupyter.widget-view+json": {
       "model_id": "2b5d43b757ed43b0a23f0d2494e42585",
       "version_major": 2,
       "version_minor": 0
      },
      "text/plain": [
       "IntProgress(value=210, max=249)"
      ]
     },
     "metadata": {},
     "output_type": "display_data"
    },
    {
     "data": {
      "application/vnd.jupyter.widget-view+json": {
       "model_id": "2b5d43b757ed43b0a23f0d2494e42585",
       "version_major": 2,
       "version_minor": 0
      },
      "text/plain": [
       "IntProgress(value=211, max=249)"
      ]
     },
     "metadata": {},
     "output_type": "display_data"
    },
    {
     "data": {
      "application/vnd.jupyter.widget-view+json": {
       "model_id": "2b5d43b757ed43b0a23f0d2494e42585",
       "version_major": 2,
       "version_minor": 0
      },
      "text/plain": [
       "IntProgress(value=212, max=249)"
      ]
     },
     "metadata": {},
     "output_type": "display_data"
    },
    {
     "data": {
      "application/vnd.jupyter.widget-view+json": {
       "model_id": "2b5d43b757ed43b0a23f0d2494e42585",
       "version_major": 2,
       "version_minor": 0
      },
      "text/plain": [
       "IntProgress(value=213, max=249)"
      ]
     },
     "metadata": {},
     "output_type": "display_data"
    },
    {
     "data": {
      "application/vnd.jupyter.widget-view+json": {
       "model_id": "2b5d43b757ed43b0a23f0d2494e42585",
       "version_major": 2,
       "version_minor": 0
      },
      "text/plain": [
       "IntProgress(value=214, max=249)"
      ]
     },
     "metadata": {},
     "output_type": "display_data"
    },
    {
     "data": {
      "application/vnd.jupyter.widget-view+json": {
       "model_id": "2b5d43b757ed43b0a23f0d2494e42585",
       "version_major": 2,
       "version_minor": 0
      },
      "text/plain": [
       "IntProgress(value=215, max=249)"
      ]
     },
     "metadata": {},
     "output_type": "display_data"
    },
    {
     "data": {
      "application/vnd.jupyter.widget-view+json": {
       "model_id": "2b5d43b757ed43b0a23f0d2494e42585",
       "version_major": 2,
       "version_minor": 0
      },
      "text/plain": [
       "IntProgress(value=216, max=249)"
      ]
     },
     "metadata": {},
     "output_type": "display_data"
    },
    {
     "data": {
      "application/vnd.jupyter.widget-view+json": {
       "model_id": "2b5d43b757ed43b0a23f0d2494e42585",
       "version_major": 2,
       "version_minor": 0
      },
      "text/plain": [
       "IntProgress(value=217, max=249)"
      ]
     },
     "metadata": {},
     "output_type": "display_data"
    },
    {
     "data": {
      "application/vnd.jupyter.widget-view+json": {
       "model_id": "2b5d43b757ed43b0a23f0d2494e42585",
       "version_major": 2,
       "version_minor": 0
      },
      "text/plain": [
       "IntProgress(value=218, max=249)"
      ]
     },
     "metadata": {},
     "output_type": "display_data"
    },
    {
     "data": {
      "application/vnd.jupyter.widget-view+json": {
       "model_id": "2b5d43b757ed43b0a23f0d2494e42585",
       "version_major": 2,
       "version_minor": 0
      },
      "text/plain": [
       "IntProgress(value=219, max=249)"
      ]
     },
     "metadata": {},
     "output_type": "display_data"
    },
    {
     "data": {
      "application/vnd.jupyter.widget-view+json": {
       "model_id": "2b5d43b757ed43b0a23f0d2494e42585",
       "version_major": 2,
       "version_minor": 0
      },
      "text/plain": [
       "IntProgress(value=220, max=249)"
      ]
     },
     "metadata": {},
     "output_type": "display_data"
    },
    {
     "data": {
      "application/vnd.jupyter.widget-view+json": {
       "model_id": "2b5d43b757ed43b0a23f0d2494e42585",
       "version_major": 2,
       "version_minor": 0
      },
      "text/plain": [
       "IntProgress(value=221, max=249)"
      ]
     },
     "metadata": {},
     "output_type": "display_data"
    },
    {
     "data": {
      "application/vnd.jupyter.widget-view+json": {
       "model_id": "2b5d43b757ed43b0a23f0d2494e42585",
       "version_major": 2,
       "version_minor": 0
      },
      "text/plain": [
       "IntProgress(value=222, max=249)"
      ]
     },
     "metadata": {},
     "output_type": "display_data"
    },
    {
     "data": {
      "application/vnd.jupyter.widget-view+json": {
       "model_id": "2b5d43b757ed43b0a23f0d2494e42585",
       "version_major": 2,
       "version_minor": 0
      },
      "text/plain": [
       "IntProgress(value=223, max=249)"
      ]
     },
     "metadata": {},
     "output_type": "display_data"
    },
    {
     "data": {
      "application/vnd.jupyter.widget-view+json": {
       "model_id": "2b5d43b757ed43b0a23f0d2494e42585",
       "version_major": 2,
       "version_minor": 0
      },
      "text/plain": [
       "IntProgress(value=224, max=249)"
      ]
     },
     "metadata": {},
     "output_type": "display_data"
    },
    {
     "data": {
      "application/vnd.jupyter.widget-view+json": {
       "model_id": "2b5d43b757ed43b0a23f0d2494e42585",
       "version_major": 2,
       "version_minor": 0
      },
      "text/plain": [
       "IntProgress(value=225, max=249)"
      ]
     },
     "metadata": {},
     "output_type": "display_data"
    },
    {
     "data": {
      "application/vnd.jupyter.widget-view+json": {
       "model_id": "2b5d43b757ed43b0a23f0d2494e42585",
       "version_major": 2,
       "version_minor": 0
      },
      "text/plain": [
       "IntProgress(value=226, max=249)"
      ]
     },
     "metadata": {},
     "output_type": "display_data"
    },
    {
     "data": {
      "application/vnd.jupyter.widget-view+json": {
       "model_id": "2b5d43b757ed43b0a23f0d2494e42585",
       "version_major": 2,
       "version_minor": 0
      },
      "text/plain": [
       "IntProgress(value=227, max=249)"
      ]
     },
     "metadata": {},
     "output_type": "display_data"
    },
    {
     "data": {
      "application/vnd.jupyter.widget-view+json": {
       "model_id": "2b5d43b757ed43b0a23f0d2494e42585",
       "version_major": 2,
       "version_minor": 0
      },
      "text/plain": [
       "IntProgress(value=228, max=249)"
      ]
     },
     "metadata": {},
     "output_type": "display_data"
    },
    {
     "data": {
      "application/vnd.jupyter.widget-view+json": {
       "model_id": "2b5d43b757ed43b0a23f0d2494e42585",
       "version_major": 2,
       "version_minor": 0
      },
      "text/plain": [
       "IntProgress(value=229, max=249)"
      ]
     },
     "metadata": {},
     "output_type": "display_data"
    },
    {
     "data": {
      "application/vnd.jupyter.widget-view+json": {
       "model_id": "2b5d43b757ed43b0a23f0d2494e42585",
       "version_major": 2,
       "version_minor": 0
      },
      "text/plain": [
       "IntProgress(value=230, max=249)"
      ]
     },
     "metadata": {},
     "output_type": "display_data"
    },
    {
     "data": {
      "application/vnd.jupyter.widget-view+json": {
       "model_id": "2b5d43b757ed43b0a23f0d2494e42585",
       "version_major": 2,
       "version_minor": 0
      },
      "text/plain": [
       "IntProgress(value=231, max=249)"
      ]
     },
     "metadata": {},
     "output_type": "display_data"
    },
    {
     "data": {
      "application/vnd.jupyter.widget-view+json": {
       "model_id": "2b5d43b757ed43b0a23f0d2494e42585",
       "version_major": 2,
       "version_minor": 0
      },
      "text/plain": [
       "IntProgress(value=232, max=249)"
      ]
     },
     "metadata": {},
     "output_type": "display_data"
    },
    {
     "data": {
      "application/vnd.jupyter.widget-view+json": {
       "model_id": "2b5d43b757ed43b0a23f0d2494e42585",
       "version_major": 2,
       "version_minor": 0
      },
      "text/plain": [
       "IntProgress(value=233, max=249)"
      ]
     },
     "metadata": {},
     "output_type": "display_data"
    },
    {
     "data": {
      "application/vnd.jupyter.widget-view+json": {
       "model_id": "2b5d43b757ed43b0a23f0d2494e42585",
       "version_major": 2,
       "version_minor": 0
      },
      "text/plain": [
       "IntProgress(value=234, max=249)"
      ]
     },
     "metadata": {},
     "output_type": "display_data"
    },
    {
     "data": {
      "application/vnd.jupyter.widget-view+json": {
       "model_id": "2b5d43b757ed43b0a23f0d2494e42585",
       "version_major": 2,
       "version_minor": 0
      },
      "text/plain": [
       "IntProgress(value=235, max=249)"
      ]
     },
     "metadata": {},
     "output_type": "display_data"
    },
    {
     "data": {
      "application/vnd.jupyter.widget-view+json": {
       "model_id": "2b5d43b757ed43b0a23f0d2494e42585",
       "version_major": 2,
       "version_minor": 0
      },
      "text/plain": [
       "IntProgress(value=236, max=249)"
      ]
     },
     "metadata": {},
     "output_type": "display_data"
    },
    {
     "data": {
      "application/vnd.jupyter.widget-view+json": {
       "model_id": "2b5d43b757ed43b0a23f0d2494e42585",
       "version_major": 2,
       "version_minor": 0
      },
      "text/plain": [
       "IntProgress(value=237, max=249)"
      ]
     },
     "metadata": {},
     "output_type": "display_data"
    },
    {
     "data": {
      "application/vnd.jupyter.widget-view+json": {
       "model_id": "2b5d43b757ed43b0a23f0d2494e42585",
       "version_major": 2,
       "version_minor": 0
      },
      "text/plain": [
       "IntProgress(value=238, max=249)"
      ]
     },
     "metadata": {},
     "output_type": "display_data"
    },
    {
     "data": {
      "application/vnd.jupyter.widget-view+json": {
       "model_id": "2b5d43b757ed43b0a23f0d2494e42585",
       "version_major": 2,
       "version_minor": 0
      },
      "text/plain": [
       "IntProgress(value=239, max=249)"
      ]
     },
     "metadata": {},
     "output_type": "display_data"
    },
    {
     "data": {
      "application/vnd.jupyter.widget-view+json": {
       "model_id": "2b5d43b757ed43b0a23f0d2494e42585",
       "version_major": 2,
       "version_minor": 0
      },
      "text/plain": [
       "IntProgress(value=240, max=249)"
      ]
     },
     "metadata": {},
     "output_type": "display_data"
    },
    {
     "data": {
      "application/vnd.jupyter.widget-view+json": {
       "model_id": "2b5d43b757ed43b0a23f0d2494e42585",
       "version_major": 2,
       "version_minor": 0
      },
      "text/plain": [
       "IntProgress(value=241, max=249)"
      ]
     },
     "metadata": {},
     "output_type": "display_data"
    },
    {
     "data": {
      "application/vnd.jupyter.widget-view+json": {
       "model_id": "2b5d43b757ed43b0a23f0d2494e42585",
       "version_major": 2,
       "version_minor": 0
      },
      "text/plain": [
       "IntProgress(value=242, max=249)"
      ]
     },
     "metadata": {},
     "output_type": "display_data"
    },
    {
     "data": {
      "application/vnd.jupyter.widget-view+json": {
       "model_id": "2b5d43b757ed43b0a23f0d2494e42585",
       "version_major": 2,
       "version_minor": 0
      },
      "text/plain": [
       "IntProgress(value=243, max=249)"
      ]
     },
     "metadata": {},
     "output_type": "display_data"
    },
    {
     "data": {
      "application/vnd.jupyter.widget-view+json": {
       "model_id": "2b5d43b757ed43b0a23f0d2494e42585",
       "version_major": 2,
       "version_minor": 0
      },
      "text/plain": [
       "IntProgress(value=244, max=249)"
      ]
     },
     "metadata": {},
     "output_type": "display_data"
    },
    {
     "data": {
      "application/vnd.jupyter.widget-view+json": {
       "model_id": "2b5d43b757ed43b0a23f0d2494e42585",
       "version_major": 2,
       "version_minor": 0
      },
      "text/plain": [
       "IntProgress(value=245, max=249)"
      ]
     },
     "metadata": {},
     "output_type": "display_data"
    },
    {
     "data": {
      "application/vnd.jupyter.widget-view+json": {
       "model_id": "2b5d43b757ed43b0a23f0d2494e42585",
       "version_major": 2,
       "version_minor": 0
      },
      "text/plain": [
       "IntProgress(value=246, max=249)"
      ]
     },
     "metadata": {},
     "output_type": "display_data"
    },
    {
     "data": {
      "application/vnd.jupyter.widget-view+json": {
       "model_id": "2b5d43b757ed43b0a23f0d2494e42585",
       "version_major": 2,
       "version_minor": 0
      },
      "text/plain": [
       "IntProgress(value=247, max=249)"
      ]
     },
     "metadata": {},
     "output_type": "display_data"
    },
    {
     "data": {
      "application/vnd.jupyter.widget-view+json": {
       "model_id": "2b5d43b757ed43b0a23f0d2494e42585",
       "version_major": 2,
       "version_minor": 0
      },
      "text/plain": [
       "IntProgress(value=248, max=249)"
      ]
     },
     "metadata": {},
     "output_type": "display_data"
    },
    {
     "name": "stdout",
     "output_type": "stream",
     "text": [
      "Output201801 Successful!\n",
      "Primary wave mean period 11.53 s\n"
     ]
    }
   ],
   "source": [
    "skiped = 0\n",
    "data = 0\n",
    "bar=IntProgress(min=1,max=M_Num)\n",
    "display(bar)\n",
    "\n",
    "for N in range(M_Num):\n",
    "    grb1 = gribs.select(name='Primary wave mean period')[N]\n",
    "    grb2 = gribs.select(name='Primary wave mean period')[N+1]\n",
    "    if grb1.validDate == grb2.validDate:\n",
    "        print(\"\\nSkip %d th value because of redundant\" %(N+1))\n",
    "        skiped += 1\n",
    "        continue\n",
    "    sel_data,lat,lon=grb1.data(llclat,urclat,llclon,urclon)\n",
    "    data=data+sel_data\n",
    "    bar.value+=1\n",
    "    display(bar)\n",
    "    \n",
    "average = data/(M_Num-skiped)\n",
    "data,lat,lon=grb.data(llclat,urclat,llclon,urclon)\n",
    "m = Basemap(projection='mill',lat_ts=10,llcrnrlon=lon.min(),urcrnrlon=lon.max(),llcrnrlat=lat.min(),urcrnrlat=lat.max(),resolution='c')\n",
    "x,y = m(lon,lat)\n",
    "m.pcolormesh(x,y,data, shading='flat', cmap=plt.cm.jet)\n",
    "m.drawcoastlines()\n",
    "m.fillcontinents()\n",
    "m.drawmapboundary()\n",
    "m.drawstates()\n",
    "m.colorbar(location='right')\n",
    "pname=Date\n",
    "extension='.png'\n",
    "#plt.title(Date+' Significant wave height'+' average= '+str(average.mean())+' m')\n",
    "plt.title(\"{Dtime} Primary wave mean period {ave:.2f} s\".format(Dtime=Date, ave=average.mean()))\n",
    "plt.savefig(outpath+pname+extension,dpi=326)\n",
    "plt.clf()\n",
    "plt.close()\n",
    "print('Output'+pname+' Successful!')\n",
    "#print(\"Montly average wave height: \"+str(average.mean())+\" m\")\n",
    "print(\"Primary wave mean period {ave:.2f} s\".format(ave=average.mean()))"
   ]
  },
  {
   "cell_type": "code",
   "execution_count": 47,
   "metadata": {},
   "outputs": [
    {
     "data": {
      "image/png": "[encoded data removed]",
      "text/plain": [
       "<IPython.core.display.Image object>"
      ]
     },
     "execution_count": 47,
     "metadata": {},
     "output_type": "execute_result"
    }
   ],
   "source": [
    "Image(\"./AnalysisResult/201801/201801.png\")"
   ]
  }
 ],
 "metadata": {
  "kernelspec": {
   "display_name": "Wave",
   "language": "python",
   "name": "wave"
  },
  "language_info": {
   "codemirror_mode": {
    "name": "ipython",
    "version": 3
   },
   "file_extension": ".py",
   "mimetype": "text/x-python",
   "name": "python",
   "nbconvert_exporter": "python",
   "pygments_lexer": "ipython3",
   "version": "3.7.5"
  }
 },
 "nbformat": 4,
 "nbformat_minor": 4
}
