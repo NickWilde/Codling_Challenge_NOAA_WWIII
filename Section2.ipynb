{
 "cells": [
  {
   "cell_type": "markdown",
   "metadata": {},
   "source": [
    "## Section 2"
   ]
  },
  {
   "cell_type": "code",
   "execution_count": 1,
   "metadata": {},
   "outputs": [],
   "source": [
    "import pandas as pd\n",
    "import numpy as np\n",
    "import math\n",
    "from datetime import datetime\n",
    "import matplotlib.pyplot as plt"
   ]
  },
  {
   "cell_type": "code",
   "execution_count": 2,
   "metadata": {},
   "outputs": [],
   "source": [
    "df=pd.read_csv(\"./NYC_Wi-Fi_Hotspot_Locations.csv\")"
   ]
  },
  {
   "cell_type": "markdown",
   "metadata": {},
   "source": [
    "## Question1"
   ]
  },
  {
   "cell_type": "code",
   "execution_count": 3,
   "metadata": {},
   "outputs": [
    {
     "data": {
      "text/plain": [
       "17"
      ]
     },
     "execution_count": 3,
     "metadata": {},
     "output_type": "execute_result"
    }
   ],
   "source": [
    "Question1=df['Provider'].nunique()\n",
    "print(Question1)"
   ]
  },
  {
   "cell_type": "markdown",
   "metadata": {},
   "source": [
    "## Question 2"
   ]
  },
  {
   "cell_type": "code",
   "execution_count": 33,
   "metadata": {},
   "outputs": [
    {
     "name": "stdout",
     "output_type": "stream",
     "text": [
      "LinkNYC - Citybridge    137\n",
      "ALTICEUSA               120\n",
      "NYPL                     35\n",
      "Transit Wireless         21\n",
      "AT&T                      3\n",
      "Name: Provider, dtype: int64\n"
     ]
    }
   ],
   "source": [
    "print(df[df['Borough Name']=='Bronx']['Provider'].value_counts())"
   ]
  },
  {
   "cell_type": "markdown",
   "metadata": {},
   "source": [
    "The second most common provider in Bronx is ALTICEUSA and there are 120 hotspots"
   ]
  },
  {
   "cell_type": "markdown",
   "metadata": {},
   "source": [
    "## Question 3"
   ]
  },
  {
   "cell_type": "code",
   "execution_count": 35,
   "metadata": {},
   "outputs": [
    {
     "name": "stdout",
     "output_type": "stream",
     "text": [
      "3.5854172943657723\n"
     ]
    }
   ],
   "source": [
    "Total=df['Location'].size\n",
    "bool_park=df['Location'].str.contains(\"Park\")\n",
    "Num_park=bool_park[bool_park == True].size\n",
    "percentage=Num_park/Total*100\n",
    "print(percentage)"
   ]
  },
  {
   "cell_type": "markdown",
   "metadata": {},
   "source": [
    "## Question 4"
   ]
  },
  {
   "cell_type": "code",
   "execution_count": 36,
   "metadata": {},
   "outputs": [
    {
     "name": "stdout",
     "output_type": "stream",
     "text": [
      "0.9355227478156071\n"
     ]
    }
   ],
   "source": [
    "Total=df['Location_T'].size\n",
    "Library=df[df['Location_T'] == 'Library']\n",
    "Num_Library=Library['Location_T'].size\n",
    "Probability=1-Num_Library/Total\n",
    "print(Probability)"
   ]
  },
  {
   "cell_type": "markdown",
   "metadata": {},
   "source": [
    "## Question 5"
   ]
  },
  {
   "cell_type": "code",
   "execution_count": 8,
   "metadata": {},
   "outputs": [],
   "source": [
    "pop=pd.read_csv(\"Census_Demographics_at_the_Neighborhood_Tabulation_Area__NTA__level.csv\")\n",
    "wifi_NTA=df[\"Neighborhood Tabulation Area Code (NTACODE)\"]\n",
    "wifi_num=wifi_NTA.value_counts()\n",
    "wifi_list=wifi_num.index.tolist()\n",
    "wifi_num=wifi_num.tolist()\n",
    "num_NTA=pd.DataFrame({'NTA':wifi_list,'Number':wifi_num},index=None)\n"
   ]
  },
  {
   "cell_type": "code",
   "execution_count": 9,
   "metadata": {},
   "outputs": [],
   "source": [
    "pop_num=pop[[\"Geographic Area - Neighborhood Tabulation Area (NTA)* Code\",\"Total Population 2010 Number\"]]\n",
    "pop_num=pop_num.dropna(axis=0)\n",
    "pop_num=pop_num.rename(columns={'Geographic Area - Neighborhood Tabulation Area (NTA)* Code':'NTA','Total Population 2010 Number':'Population2010'})"
   ]
  },
  {
   "cell_type": "code",
   "execution_count": 10,
   "metadata": {},
   "outputs": [],
   "source": [
    "num_NTA=num_NTA.merge(pop_num,how='left',on='NTA')"
   ]
  },
  {
   "cell_type": "code",
   "execution_count": 11,
   "metadata": {},
   "outputs": [
    {
     "data": {
      "text/plain": [
       "697.0351651264959"
      ]
     },
     "execution_count": 11,
     "metadata": {},
     "output_type": "execute_result"
    }
   ],
   "source": [
    "num_NTA=num_NTA[num_NTA['Number']>=30]\n",
    "wifi_capita=num_NTA['Population2010'].div(num_NTA['Number'])\n",
    "num_NTA['Wifi_per_capita']=wifi_capita\n",
    "q75,q25 = np.percentile(num_NTA['Wifi_per_capita'],[75,25])\n",
    "iqr=q75-q25\n",
    "print(iqr)"
   ]
  },
  {
   "cell_type": "markdown",
   "metadata": {},
   "source": [
    "The interquatile range of the averages is 697.04"
   ]
  },
  {
   "cell_type": "markdown",
   "metadata": {},
   "source": [
    "## Question 6"
   ]
  },
  {
   "cell_type": "code",
   "execution_count": 12,
   "metadata": {},
   "outputs": [],
   "source": [
    "Distance=df.sort_values(by=['Latitude','Longitude'],axis=0,ascending=True)\n",
    "Distance=Distance[['Latitude','Longitude']]\n",
    "Distance=Distance.div(180,axis=0).mul(3.1415926,axis=0) # Radians\n",
    "R=6371 # km"
   ]
  },
  {
   "cell_type": "code",
   "execution_count": 13,
   "metadata": {},
   "outputs": [],
   "source": [
    "# For the 1st point\n",
    "Ave_Distance=[]\n",
    "cloest3=Distance.iloc[1:4,:]\n",
    "dLat=(cloest3.iloc[:,0].values-Distance.iloc[0,0])\n",
    "dLon=(cloest3.iloc[:,1].values-Distance.iloc[0,1])\n",
    "Mean_Lat=((cloest3.iloc[:,0]+Distance.iloc[0,0])/2)\n",
    "D=R*(dLat**2 + (np.cos(Mean_Lat)*dLon)**2)**(1/2)\n",
    "D=np.mean(D.values)*3280 # 1km = 3280 feet\n",
    "Ave_Distance.append(D)"
   ]
  },
  {
   "cell_type": "code",
   "execution_count": 14,
   "metadata": {},
   "outputs": [],
   "source": [
    "# For the 2nd point\n",
    "cloest3=cloest3=Distance.iloc[0:4,:]\n",
    "cloest3=cloest3.drop(labels=cloest3.iloc[1].name)\n",
    "dLat=(cloest3.iloc[:,0].values-Distance.iloc[1,0])\n",
    "dLon=(cloest3.iloc[:,1].values-Distance.iloc[1,1])\n",
    "Mean_Lat=((cloest3.iloc[:,0]+Distance.iloc[1,0])/2)\n",
    "D=R*(dLat**2 + (np.cos(Mean_Lat)*dLon)**2)**(1/2)\n",
    "D=np.mean(D.values)*3280 # 1km = 3280 feet\n",
    "Ave_Distance.append(D)"
   ]
  },
  {
   "cell_type": "code",
   "execution_count": 15,
   "metadata": {},
   "outputs": [],
   "source": [
    "# For the other points\n",
    "for i in range(2,len(Distance)-2):\n",
    "    cloest4=Distance.iloc[i-2:i+3,:]\n",
    "    cloest4=cloest4.drop(labels=cloest4.iloc[2].name)\n",
    "    dLat=(cloest4.iloc[:,0].values-Distance.iloc[i,0])\n",
    "    dLon=(cloest4.iloc[:,1].values-Distance.iloc[i,1])\n",
    "    Mean_Lat=((cloest4.iloc[:,0]+Distance.iloc[i,0])/2)\n",
    "    D4=R*(dLat**2 + (np.cos(Mean_Lat)*dLon)**2)**(1/2)\n",
    "    D3=np.delete(D4.values,D4.values.argmax())\n",
    "    D=np.mean(D3)*3280 # 1km = 3280 feet\n",
    "    Ave_Distance.append(D)"
   ]
  },
  {
   "cell_type": "code",
   "execution_count": 16,
   "metadata": {},
   "outputs": [],
   "source": [
    "cloest4=Distance.iloc[0:5,1].values\n",
    "cloest4=np.delete(cloest4,cloest4.argmin())"
   ]
  },
  {
   "cell_type": "code",
   "execution_count": 17,
   "metadata": {},
   "outputs": [],
   "source": [
    "# For the -2nd point\n",
    "cloest3=cloest3=Distance.iloc[-4:,:]\n",
    "cloest3=cloest3.drop(labels=cloest3.iloc[-2].name)\n",
    "dLat=(cloest3.iloc[:,0].values-Distance.iloc[-2,0])\n",
    "dLon=(cloest3.iloc[:,1].values-Distance.iloc[-2,1])\n",
    "Mean_Lat=((cloest3.iloc[:,0]+Distance.iloc[-2,0])/2)\n",
    "D=R*(dLat**2 + (np.cos(Mean_Lat)*dLon)**2)**(1/2)\n",
    "D=np.mean(D.values)*3280 # 1km = 3280 feet\n",
    "Ave_Distance.append(D)"
   ]
  },
  {
   "cell_type": "code",
   "execution_count": 18,
   "metadata": {},
   "outputs": [],
   "source": [
    "# For the 1st point\n",
    "cloest3=Distance.iloc[-4:-1,:]\n",
    "dLat=(cloest3.iloc[:,0].values-Distance.iloc[-1,0])\n",
    "dLon=(cloest3.iloc[:,1].values-Distance.iloc[-1,1])\n",
    "Mean_Lat=((cloest3.iloc[:,0]+Distance.iloc[-1,0])/2)\n",
    "D=R*(dLat**2 + (np.cos(Mean_Lat)*dLon)**2)**(1/2)\n",
    "D=np.mean(D.values)*3280 # 1km = 3280 feet\n",
    "Ave_Distance.append(D)"
   ]
  },
  {
   "cell_type": "code",
   "execution_count": 19,
   "metadata": {},
   "outputs": [
    {
     "data": {
      "text/plain": [
       "4268.464291950047"
      ]
     },
     "execution_count": 19,
     "metadata": {},
     "output_type": "execute_result"
    }
   ],
   "source": [
    "Distance_Array=np.array(Ave_Distance)\n",
    "print(np.median(Distance_Array))"
   ]
  },
  {
   "cell_type": "markdown",
   "metadata": {},
   "source": [
    "## Question 7"
   ]
  },
  {
   "cell_type": "code",
   "execution_count": 20,
   "metadata": {},
   "outputs": [
    {
     "data": {
      "text/plain": [
       "0.24368825466520308"
      ]
     },
     "execution_count": 20,
     "metadata": {},
     "output_type": "execute_result"
    }
   ],
   "source": [
    "format_str=\"%m/%d/%Y\"\n",
    "week_wifi=df[df['Activated'].str.contains(\"9999\")!=1]\n",
    "week_days=pd.to_datetime(week_wifi['Activated'],format=format_str).apply(datetime.date).apply(datetime.weekday)\n",
    "counts=week_days.value_counts()\n",
    "fraction=counts.iloc[0]/counts.sum()\n",
    "print(fraction)"
   ]
  },
  {
   "cell_type": "markdown",
   "metadata": {},
   "source": [
    "## Question 8"
   ]
  },
  {
   "cell_type": "code",
   "execution_count": 31,
   "metadata": {},
   "outputs": [],
   "source": [
    "month_wifi=week_wifi\n",
    "month_activate=pd.to_datetime(month_wifi['Activated'],format=format_str)\n",
    "month_act_range=month_activate[(month_activate<datetime(2018,7,1))].dt.month.value_counts()\n",
    "month_act_range.sort_index(inplace=True)"
   ]
  },
  {
   "cell_type": "code",
   "execution_count": 32,
   "metadata": {},
   "outputs": [
    {
     "data": {
      "image/png": "[encoded data removed]",
      "text/plain": [
       "<Figure size 432x288 with 1 Axes>"
      ]
     },
     "metadata": {
      "needs_background": "light"
     },
     "output_type": "display_data"
    }
   ],
   "source": [
    "plt.plot(month_act_range.index,month_act_range.values)\n",
    "plt.show()"
   ]
  }
 ],
 "metadata": {
  "kernelspec": {
   "display_name": "Wave",
   "language": "python",
   "name": "wave"
  },
  "language_info": {
   "codemirror_mode": {
    "name": "ipython",
    "version": 3
   },
   "file_extension": ".py",
   "mimetype": "text/x-python",
   "name": "python",
   "nbconvert_exporter": "python",
   "pygments_lexer": "ipython3",
   "version": "3.7.5"
  }
 },
 "nbformat": 4,
 "nbformat_minor": 5
}
